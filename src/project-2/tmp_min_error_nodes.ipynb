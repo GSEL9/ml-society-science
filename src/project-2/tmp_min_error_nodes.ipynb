{
 "cells": [
  {
   "cell_type": "markdown",
   "metadata": {},
   "source": [
    "**Minimum error classifier**\n",
    "\n",
    "We define the policy for selecting an action $a \\in \\left \\{ 0, 1 \\right \\}$ based on the following decision rule  \n",
    "$$\n",
    "a = \\arg \\max_j P(y_j \\mid x).\n",
    "$$\n",
    "This rule selects the action maximizing the probability of outcome $y \\in \\left \\{ 0, 1 \\right \\}$ conditioned on the data $x$. Here $x \\in \\left \\{ 0, 1 \\right \\}^d$ is a binary vector of $d$ features. Since $x_i$ is binary we assume $P(x_i \\mid y_j) = p_{i,j}^{x_i} (1 - p_{i,j})^{1 - x_i}$. Moreover, assuming $\\forall i=1, \\dots, d: x_i$ are independent we have that\n",
    "$$\n",
    "    P(x \\mid y_j) = \\prod_{i=1}^d P(x_i \\mid y_j)\n",
    "$$\n",
    "\n",
    "To derive a mechanism that executes our decision rule, we consider discriminative functions $g_j(\\cdot)$.  Let $P_{i, j} = P(x_{i} = 1 \\mid y_j)$, and \n",
    "$$\n",
    "g_j(x) = \\ln P(x \\mid y_j)P(y_j)\n",
    "$$\n",
    "Then\n",
    "$$\n",
    "    g_j(x) = \\sum_{i=1}^d \\ln \\left \\{ p_{i,j}^{x_i} (1 - p_{i,j})^{1 - x_i}\\right \\} + \\ln P(y_j) = \\sum_{i=1}^d  x_i \\ln \\frac{p_{i,j}}{1 - p_{i,j}} + \\sum_{i=1}^d \\ln (1 - p_{i,j}) + \\ln P(y_j) \n",
    "$$\n",
    "and our decision rule follows\n",
    "$$\n",
    "a = \\begin{cases}\n",
    "0 & \\text{ if } g_0(x) \\geq g_1(x) \\\\ \n",
    "1 & \\text{ if } g_0(x) < g_1(x)\n",
    "\\end{cases}\n",
    "$$\n",
    "Training the classifier entails learning the prior probabilities $P(y_j)$ and the likelihoods $P(x \\mid y_j)$. We recursively update these probability estimates with new data $({x}', {y}')$ according to a Markov process using our previous assumptions on the distribution and independence of $x$."
   ]
  },
  {
   "cell_type": "code",
   "execution_count": null,
   "metadata": {},
   "outputs": [],
   "source": []
  }
 ],
 "metadata": {
  "kernelspec": {
   "display_name": "Python 3",
   "language": "python",
   "name": "python3"
  },
  "language_info": {
   "codemirror_mode": {
    "name": "ipython",
    "version": 3
   },
   "file_extension": ".py",
   "mimetype": "text/x-python",
   "name": "python",
   "nbconvert_exporter": "python",
   "pygments_lexer": "ipython3",
   "version": "3.7.4"
  }
 },
 "nbformat": 4,
 "nbformat_minor": 2
}
