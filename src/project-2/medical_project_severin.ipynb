{
 "cells": [
  {
   "cell_type": "code",
   "execution_count": 54,
   "metadata": {},
   "outputs": [],
   "source": [
    "# Setup.\n",
    "import numpy as np \n",
    "import pandas as pd \n",
    "import seaborn as sns\n",
    "import matplotlib.pyplot as plt \n",
    "\n",
    "%matplotlib inline \n",
    "\n",
    "\n",
    "def load_data(path_to_file):\n",
    "    \n",
    "    df = pd.read_csv(path_to_file, header=None)\n",
    "    \n",
    "    if df.values.dtype is not np.dtype(int):\n",
    "        \n",
    "        X = []\n",
    "        for i, x in df.iterrows():\n",
    "            X.append(eval((\",\").join(x.values[0].split(\" \"))))\n",
    "            \n",
    "        df = pd.DataFrame(X)\n",
    "        \n",
    "    return df\n",
    "\n",
    "\n",
    "a = np.squeeze(load_data(\"data/medical/historical_A.dat\").values)\n",
    "y = np.squeeze(load_data(\"data/medical/historical_Y.dat\").values)\n",
    "x = load_data(\"data/medical/historical_X.dat\").values\n",
    "\n",
    "gender = x[:, 0]\n",
    "smoker = x[:, 1]\n",
    "genes = x[:, 2:127]\n",
    "symp = x[:, 128:]"
   ]
  },
  {
   "cell_type": "markdown",
   "metadata": {},
   "source": [
    "The following figure illustrates that action $a_1$ has led to more $y_1$ outcomes compared to action $a_0$. However, both actions $a_0$ and $a_1$ has also led to the outcome $y_0$. Moreover, we observe that the distribution of actions and outcomes is heavily skewed towards $a_1$ and $y_1$, respectively."
   ]
  },
  {
   "cell_type": "code",
   "execution_count": 13,
   "metadata": {},
   "outputs": [
    {
     "data": {
      "image/png": "[encoded data removed]",
      "text/plain": [
       "<Figure size 432x288 with 1 Axes>"
      ]
     },
     "metadata": {
      "needs_background": "light"
     },
     "output_type": "display_data"
    }
   ],
   "source": [
    "_, axis = plt.subplots(1, 1)\n",
    "\n",
    "N = 2\n",
    "ind = np.arange(N)\n",
    "width = N / 4 - 0.2\n",
    "\n",
    "rects1 = axis.bar(ind, [sum(y[a == 0]), sum(y[a == 1])], width)\n",
    "rects2 = axis.bar(ind + width, [sum(y[a == 0] == 0), sum(y[a == 1] == 0)], width)\n",
    "\n",
    "axis.set_ylabel('Count')\n",
    "axis.set_xticks(ind + width / 2)\n",
    "axis.set_xticklabels((r\"$y = 1$\", r\"$y = 0$\"))\n",
    "axis.legend((rects1[0], rects2[0]), [\"$a_0$\", \"$a_1$\"])\n",
    "plt.tight_layout()"
   ]
  },
  {
   "cell_type": "markdown",
   "metadata": {},
   "source": [
    "## Effect of treatment\n",
    "\n",
    "Assuming $a_0$ means placebo, $a_1$ is the active treament, $y_1$ is successfull treatment and $y_0$ is un-successfull treatment. To quantify the effectiveness of the placebo $a_0$ versus the active treatment $a_1$ we use the [relative risk score](https://adc.bmj.com/content/90/1/54.full) $RR$. The Bayesian interpretation of this score, namely\n",
    "\n",
    "$$\n",
    "RR = \\frac{P(y_1 \\mid a_1)}{P(y_1 \\mid a_0)}\n",
    "$$\n",
    "\n",
    "gives the ratio of successfull treatments $P(y_1 \\mid a_1)$ divided by the ratio of placebo responders $P(y_1 \\mid a_0)$. If $RR > 1$, then $P(y_1 \\mid a_1) > P(y_1 \\mid a_0)$ in which case the active treatment $a_1$ lead to more successfull outcomes $y_1$ compared to placebo $a_0$."
   ]
  },
  {
   "cell_type": "code",
   "execution_count": 14,
   "metadata": {},
   "outputs": [],
   "source": [
    "def rr_score(a, y) -> float:\n",
    "    \"\"\"Compute the relative risk score given actions a and outcomes y.\"\"\"\n",
    "\n",
    "    p_y1_given_a0 = sum(y[a == 0] == 1) / sum(a == 0)\n",
    "    p_y1_given_a1 = sum(y[a == 1] == 1) / sum(a == 1)\n",
    "\n",
    "    return p_y1_given_a1 / p_y1_given_a0"
   ]
  },
  {
   "cell_type": "code",
   "execution_count": 15,
   "metadata": {},
   "outputs": [
    {
     "name": "stdout",
     "output_type": "stream",
     "text": [
      "RR score male: 53.269982993197274\n",
      "RR score female: 87.31344028520499\n",
      "RR score smoker: 103.94162538492436\n",
      "RR score non-smoker: 58.577538284594574\n"
     ]
    }
   ],
   "source": [
    "# Measures the effectiveness of the treatment vs. placebo.\n",
    "print(\"RR score male:\", rr_score(a[gender == 1], y[gender == 1]))\n",
    "print(\"RR score female:\", rr_score(a[gender == 0], y[gender == 0]))\n",
    "print(\"RR score smoker:\", rr_score(a[smoker == 1], y[smoker == 1]))\n",
    "print(\"RR score non-smoker:\", rr_score(a[smoker == 0], y[smoker == 0]))"
   ]
  },
  {
   "cell_type": "markdown",
   "metadata": {},
   "source": [
    "According to the $RR$ acore and assuming $gender = 1$ indicates male (quite common in epidemiology), treatment appears to be more effective on females and smokers than females and non-smokers. Furthermore, we can study the impact of $y_1$ on the gender sub-groups conditioned on whether or not they smoke:"
   ]
  },
  {
   "cell_type": "code",
   "execution_count": 16,
   "metadata": {},
   "outputs": [
    {
     "name": "stdout",
     "output_type": "stream",
     "text": [
      "RR smoking male: 86.69682835820896\n",
      "RR non-smoking male: 46.00143554407121\n",
      "RR smoking female: 149.89651022864018\n",
      "RR non-smoking female: 78.9722969338354\n"
     ]
    }
   ],
   "source": [
    "male_idx = gender == 1\n",
    "female_idx = gender == 0\n",
    "\n",
    "print(\"RR smoking male:\", rr_score(a[male_idx][smoker[male_idx] == 1], \n",
    "                                   y[male_idx][smoker[male_idx] == 1]))\n",
    "\n",
    "print(\"RR non-smoking male:\", rr_score(a[male_idx][smoker[male_idx] == 0], \n",
    "                                       y[male_idx][smoker[male_idx] == 0]))\n",
    "\n",
    "print(\"RR smoking female:\", rr_score(a[female_idx][smoker[female_idx] == 1], \n",
    "                                     y[female_idx][smoker[female_idx] == 1]))\n",
    "\n",
    "print(\"RR non-smoking female:\", rr_score(a[female_idx][smoker[female_idx] == 0], \n",
    "                                         y[female_idx][smoker[female_idx] == 0]))\n"
   ]
  },
  {
   "cell_type": "markdown",
   "metadata": {},
   "source": [
    "According to the $RR$ scores, we observe across gender that smokers are more responsive to treatment than non-smokers. This could mean that smoking impacts/correlates to the underlying condition targeted by the treatment.\n",
    "\n",
    "From the data we see that a placebo was given if neither symptom 1 nor 2 were present. However, 30 of these about 4800 cases resulted in a measurable effect of the placebo. "
   ]
  },
  {
   "cell_type": "code",
   "execution_count": 93,
   "metadata": {},
   "outputs": [
    {
     "data": {
      "text/plain": [
       "(0, 30)"
      ]
     },
     "execution_count": 93,
     "metadata": {},
     "output_type": "execute_result"
    }
   ],
   "source": [
    "s1, s2 = symp[:, 0], symp[:, 1]\n",
    "\n",
    "sum(a[np.logical_and(s1 == 0, s2 == 0)]), sum(y[np.logical_and(s1 == 0, s2 == 0)])"
   ]
  },
  {
   "cell_type": "markdown",
   "metadata": {},
   "source": [
    "For active treatment we see that symptom 1 was present in 85\\% of the cases when active treatment was successfull compared to symptom 2 being present in only about 27\\% of these cases. This means that symptom 1 was present three times more often than symptom 2 when active treatment was successfull. However, a symptom was only present in about 12\\% of the cases when active treatment failed. "
   ]
  },
  {
   "cell_type": "code",
   "execution_count": null,
   "metadata": {},
   "outputs": [],
   "source": [
    "p_s1_y1 = sum(s1[np.logical_and(a == 1, y == 1)]) / sum(y)\n",
    "p_s2_y1 = sum(s2[np.logical_and(a == 1, y == 1)]) / sum(y)\n",
    "rr_s_y1 = p_s1_y1 / p_s2_y1\n",
    "\n",
    "p_s1_y1, p_s2_y1, rr_s_y1"
   ]
  },
  {
   "cell_type": "markdown",
   "metadata": {},
   "source": [
    "## Recommending treatment\n",
    "\n",
    "We can study the benefits and harms of treatment by consulting a [decision curve](https://www.bmj.com/content/352/bmj.i6). This curve shows the net benefit ($nb$), which is constructed from the true positive rate ($TPR$) and false positve rate ($FPR$) according to\n",
    "$$\n",
    "    nb = TPR - FPR \\left ( \\frac{p_t}{1 - p_t} \\right ).\n",
    "$$\n",
    "Here we assume that the probability of a positive outcome $p(y_1)$ is given by some prediction model. By comparing $p(y_1)$ to some threshold probability $p_t$ we define a positive outcome as $(y_1) > p_t$. The basic interpretation of a decision curve is that the strategy maximizing $nb$ at a particular $p_t$ probability yields the highest clinical value. "
   ]
  },
  {
   "cell_type": "code",
   "execution_count": 17,
   "metadata": {},
   "outputs": [],
   "source": [
    "# !!!!!!!!!!!!!!!!!!!!!!!!!\n",
    "# !!!!!!!!!!!!!!!!!!!!!!!!!\n",
    "# !!!!!!!!!!!!!!!!!!!!!!!!!\n",
    "# !!!!!!!!!!!!!!!!!!!!!!!!!\n",
    "# !!!!!!!!!!!!!!!!!!!!!!!!!\n",
    "# !!!!!!!!!!!!!!!!!!!!!!!!!\n",
    "\n",
    "# OBS - OBS - OBS - OBS - OBS - OBS\n",
    "# OBS - OBS - OBS - OBS - OBS - OBS\n",
    "# OBS - OBS - OBS - OBS - OBS - OBS\n",
    "\n",
    "# NOTE: Replace `RandomForestClassifier` with the model trained by Moeen\n",
    "\n",
    "# OBS - OBS - OBS - OBS - OBS - OBS\n",
    "# OBS - OBS - OBS - OBS - OBS - OBS\n",
    "# OBS - OBS - OBS - OBS - OBS - OBS\n",
    "\n",
    "# !!!!!!!!!!!!!!!!!!!!!!!!!\n",
    "# !!!!!!!!!!!!!!!!!!!!!!!!!\n",
    "# !!!!!!!!!!!!!!!!!!!!!!!!!\n",
    "# !!!!!!!!!!!!!!!!!!!!!!!!!\n",
    "# !!!!!!!!!!!!!!!!!!!!!!!!!\n",
    "\n",
    "\n",
    "\n",
    "# Setup\n",
    "from sklearn.ensemble import RandomForestClassifier\n",
    "\n",
    "# NOTE: Get probas from Moeens model.\n",
    "clf = RandomForestClassifier(max_depth=5, random_state=42)\n",
    "# Gives proba of y1 given a1.\n",
    "clf.fit(x[a == 1], y[a == 1])\n",
    "pred_probas = clf.predict_proba(x[a == 1])[:, 1]\n",
    "\n",
    "y_true = y[a == 1]"
   ]
  },
  {
   "cell_type": "code",
   "execution_count": 18,
   "metadata": {},
   "outputs": [],
   "source": [
    "def net_benefit(y_true, probas, p_t):\n",
    "    # https://www.bmj.com/content/352/bmj.i6\n",
    "    \n",
    "    y_pred = probas >= p_t\n",
    "    \n",
    "    tpr = sum(y_pred == y_true) / len(y_true)\n",
    "    fpr = sum(y_pred != y_true) / len(y_true)\n",
    "    \n",
    "    return tpr - fpr * p_t / (1 - p_t)"
   ]
  },
  {
   "cell_type": "code",
   "execution_count": 28,
   "metadata": {},
   "outputs": [
    {
     "data": {
      "image/png": "[encoded data removed]",
      "text/plain": [
       "<Figure size 720x432 with 1 Axes>"
      ]
     },
     "metadata": {
      "needs_background": "light"
     },
     "output_type": "display_data"
    }
   ],
   "source": [
    "thresholds = np.linspace(0.05, 0.8, 30)\n",
    "net_benefits = [net_benefit(y_true, pred_probas, p) for p in thresholds]\n",
    "always_treated = [net_benefit(y_true, 0, p) for p in thresholds]\n",
    "\n",
    "plt.figure(figsize=(10, 6))\n",
    "plt.plot([min(thresholds), max(thresholds)], [0, 0], linestyle=\"--\", label=\"Never treated\", \n",
    "         alpha=0.7, linewidth=2.5)\n",
    "plt.plot(thresholds, always_treated, \"o-\", label=\"Always treated\", markersize=5, \n",
    "         alpha=0.5, linewidth=2.5)\n",
    "plt.plot(thresholds, net_benefits, \"o-\", label=\"Risk prediction model\", markersize=5, \n",
    "         alpha=0.5, linewidth=2.5)\n",
    "plt.axvline(x=thresholds[np.argmax(net_benefits)], linestyle=\"--\", c=\"maroon\", linewidth=2.5)\n",
    "plt.axhline(y=np.max(net_benefits), linestyle=\"--\", linewidth=2.5,\n",
    "            label=\"Probability maximizing net benefit\", c=\"maroon\", alpha=0.7)\n",
    "plt.ylabel(\"Net benefit, $nb$\")\n",
    "plt.xlabel(r\"Threshold probaility, $p_t$ ($\\%$)\")\n",
    "plt.legend()\n",
    "plt.tight_layout()"
   ]
  },
  {
   "cell_type": "markdown",
   "metadata": {},
   "source": [
    "For this case, the decision curve shows that the prediction model gives higher benefit across all thresholds comapred to always treating individuals. Due to the imbalanced outcomes where $y_1$ outnumbers $y_0$, always treating individuals does not give a higher number of false positives than true positives meaning that $nb > 0$ for $p_t < 75 \\%$. Moreover, using a threshold $p_t > 55 \\%$ to issue treatment leads to a decrease in $nb$ from fewer true positives and considering a $p_t$ between $40 - 50 \\%$ for $p(y_1)$ given $a_1$ gives the higest $nb$."
   ]
  }
 ],
 "metadata": {
  "kernelspec": {
   "display_name": "Python 3",
   "language": "python",
   "name": "python3"
  },
  "language_info": {
   "codemirror_mode": {
    "name": "ipython",
    "version": 3
   },
   "file_extension": ".py",
   "mimetype": "text/x-python",
   "name": "python",
   "nbconvert_exporter": "python",
   "pygments_lexer": "ipython3",
   "version": "3.7.4"
  }
 },
 "nbformat": 4,
 "nbformat_minor": 2
}
