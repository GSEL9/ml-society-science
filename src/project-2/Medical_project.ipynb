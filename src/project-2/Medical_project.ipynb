{
 "cells": [
  {
   "cell_type": "markdown",
   "metadata": {},
   "source": [
    "# IN-STK5000/9000 - Medical Project"
   ]
  },
  {
   "cell_type": "markdown",
   "metadata": {},
   "source": [
    "Code used in this notebook lies in our github fork of the course repo: \n",
    "https://github.com/gsel9/ml-society-science/"
   ]
  },
  {
   "cell_type": "markdown",
   "metadata": {},
   "source": [
    "<!--\n",
    "\n",
    "If you read the description it says 'It is uncertain if the symptoms present are all due to the same disease, or if they are different conditions with similar symptoms.'. So one way to frame the problem is to see if the data reveals some structure, e.g. clusters. The other way to frame it is to say that 'this gene causes it' versus 'multiple genes can cause it'. Good discussion of confounders. If there are none, then the only intepreration of multiple causes would be the second one (cause = observable attributes) Lack of these two symptoms doesn't meen lack of any symptoms. For example patients may present with back pain, and then doctors may try to find a muscular or skeletal problem (but in many cases find nothing). Note that the data is binary, so I am not sure how much PCA could tell you. Good point that the correlation coefficient doesn't work and use of an approparite similarity. Good use of random forest and Shapley values (recently popular!) for feature importance. How would you validate your findings in either case? Excellent analysis on the effect of treatment depending on the primary characteristics (gender, smoking). I also like the idea of using a decision curve, in the absence of a utility function being given. Remember to take care of reproducibility issues (eg. confidence intervals) early on, so you don't have to bolt those on later.  \n",
    "-->"
   ]
  },
  {
   "cell_type": "markdown",
   "metadata": {},
   "source": [
    "TODO:  \n",
    "\n",
    "Part 3  \n",
    "\n",
    "* Implementations  \n",
    "  - Implement our own LinUCB\n",
    "  - Implement fit_data methods and find out why it is appropriate. Decide method\n",
    "  \n",
    "  \n",
    "* citation\n",
    "  - Cite whatever remains  \n",
    "  \n",
    "* validation\n",
    "  - compare recommenders and validate performance.\n",
    "  \n",
    "* final analysis:\n",
    "  - discuss benchmark results and measure adaptive policy against baseline\n",
    "\n",
    "* Make sure our project follows the criterium below"
   ]
  },
  {
   "cell_type": "markdown",
   "metadata": {},
   "source": [
    "3. The report should detail what models are used and what the assumptions are behind them. The conclusions of the should include appropriate caveats. When the problem includes simple decision making,\n",
    "the optimality metric should be well-defined and justified. Simiarly,\n",
    "when well-defined optimality criteria should given for the experiment\n",
    "design, when necessary. The design should be (to some degree of approximation, depending on problem complexity) optimal according to\n",
    "this criteria."
   ]
  },
  {
   "cell_type": "markdown",
   "metadata": {},
   "source": [
    "## Part 1 - Historical Data"
   ]
  },
  {
   "cell_type": "markdown",
   "metadata": {},
   "source": [
    "Prerequesites: \n",
    "Python: numpy, scipy, pandas, maplotlib, seaborn, sklearn, shap, rpy2, contextualbandits  \n",
    "R: logisticPCA"
   ]
  },
  {
   "cell_type": "code",
   "execution_count": 103,
   "metadata": {},
   "outputs": [
    {
     "name": "stdout",
     "output_type": "stream",
     "text": [
      "The rpy2.ipython extension is already loaded. To reload it, use:\n",
      "  %reload_ext rpy2.ipython\n"
     ]
    }
   ],
   "source": [
    "%load_ext rpy2.ipython\n",
    "\n",
    "import matplotlib.pyplot as plt\n",
    "import matplotlib.cm as cm\n",
    "import numpy as np\n",
    "import pandas as pd\n",
    "import seaborn as sns\n",
    "\n",
    "from sklearn.decomposition import PCA\n",
    "from sklearn.datasets import make_blobs\n",
    "from sklearn.cluster import AgglomerativeClustering, KMeans\n",
    "from sklearn.metrics import silhouette_samples, silhouette_score, pairwise_distances   \n",
    "from sklearn.linear_model import LogisticRegression\n",
    "from sklearn.model_selection import cross_validate\n",
    "from sklearn.ensemble import RandomForestClassifier\n",
    "from scipy.stats import sem\n",
    "\n",
    "from scipy.spatial.distance import sokalmichener\n",
    "\n",
    "import shap\n",
    "\n",
    "from recommenders import recommenders\n",
    "import test_recommender\n",
    "\n",
    "\n",
    "sns.set()"
   ]
  },
  {
   "cell_type": "markdown",
   "metadata": {},
   "source": [
    "For the sake of reproducibility, we set a seed. Our seed is set to 1337 and will be used for every instance that has a random state"
   ]
  },
  {
   "cell_type": "code",
   "execution_count": 104,
   "metadata": {},
   "outputs": [],
   "source": [
    "SEED = 1337\n",
    "np.random.seed(SEED)"
   ]
  },
  {
   "cell_type": "code",
   "execution_count": 105,
   "metadata": {},
   "outputs": [],
   "source": [
    "%%R -i SEED\n",
    "set.seed(SEED)"
   ]
  },
  {
   "cell_type": "markdown",
   "metadata": {},
   "source": [
    "# 1.1 - Discovering structure in the data\n",
    "\n",
    "It is uncertain if the symptoms present are all due to\n",
    "the same disease, or if they are different conditions with similar symptoms. Looking at the\n",
    "data (including symptoms), estimate whether a single-cause model is more likely than a multiplecause model. You can use anything, ranging from histograms or simple clustering algorithms\n",
    "to a hierarchical Bayesian model.   \n",
    "\n",
    "***  \n",
    "\n"
   ]
  },
  {
   "cell_type": "markdown",
   "metadata": {},
   "source": [
    "\n",
    "### Information about the data\n",
    "\n",
    "This is historical data in three tables.\n",
    "\n",
    "X: observations about each patient\n",
    "A: treatment\n",
    "Y: outcome of treatment\n",
    "\n",
    "The data is organised in the following files:\n",
    "\n",
    "historical.dat: all the tables in one file (matlab format)\n",
    "historical_X.dat: the X data\n",
    "historical_A.dat: the A data\n",
    "historical_Y.dat: the Y data\n",
    "\n",
    "Modelling the X data can be done through both unsupervised and supervised models. As some of the genome features might be irrelevant, it is probably a good idea to try and filter them out somehow. In later parts of the project, you will be able to perform experiments to narrow done the important genes. For the latter approach, you can combine the last two columns into a classification label, which should give you a cross-validation score of between 60-70%.\n",
    "\n"
   ]
  },
  {
   "cell_type": "code",
   "execution_count": 106,
   "metadata": {},
   "outputs": [],
   "source": [
    "feature_path = \"../../data/medical/historical_X.dat\"\n",
    "action_path = '../../data/medical/historical_A.dat'\n",
    "outcome_path ='../../data/medical/historical_Y.dat'"
   ]
  },
  {
   "cell_type": "code",
   "execution_count": 107,
   "metadata": {},
   "outputs": [
    {
     "data": {
      "text/html": [
       "<div>\n",
       "<style scoped>\n",
       "    .dataframe tbody tr th:only-of-type {\n",
       "        vertical-align: middle;\n",
       "    }\n",
       "\n",
       "    .dataframe tbody tr th {\n",
       "        vertical-align: top;\n",
       "    }\n",
       "\n",
       "    .dataframe thead th {\n",
       "        text-align: right;\n",
       "    }\n",
       "</style>\n",
       "<table border=\"1\" class=\"dataframe\">\n",
       "  <thead>\n",
       "    <tr style=\"text-align: right;\">\n",
       "      <th></th>\n",
       "      <th>sex</th>\n",
       "      <th>smoker</th>\n",
       "      <th>gen_1</th>\n",
       "      <th>gen_2</th>\n",
       "      <th>gen_3</th>\n",
       "      <th>gen_4</th>\n",
       "      <th>gen_5</th>\n",
       "      <th>gen_6</th>\n",
       "      <th>gen_7</th>\n",
       "      <th>gen_8</th>\n",
       "      <th>...</th>\n",
       "      <th>gen_119</th>\n",
       "      <th>gen_120</th>\n",
       "      <th>gen_121</th>\n",
       "      <th>gen_122</th>\n",
       "      <th>gen_123</th>\n",
       "      <th>gen_124</th>\n",
       "      <th>gen_125</th>\n",
       "      <th>gen_126</th>\n",
       "      <th>symptom_1</th>\n",
       "      <th>symptom_2</th>\n",
       "    </tr>\n",
       "  </thead>\n",
       "  <tbody>\n",
       "    <tr>\n",
       "      <th>0</th>\n",
       "      <td>0</td>\n",
       "      <td>0</td>\n",
       "      <td>0</td>\n",
       "      <td>0</td>\n",
       "      <td>1</td>\n",
       "      <td>1</td>\n",
       "      <td>0</td>\n",
       "      <td>0</td>\n",
       "      <td>1</td>\n",
       "      <td>1</td>\n",
       "      <td>...</td>\n",
       "      <td>0</td>\n",
       "      <td>1</td>\n",
       "      <td>1</td>\n",
       "      <td>0</td>\n",
       "      <td>1</td>\n",
       "      <td>1</td>\n",
       "      <td>0</td>\n",
       "      <td>0</td>\n",
       "      <td>1</td>\n",
       "      <td>0</td>\n",
       "    </tr>\n",
       "    <tr>\n",
       "      <th>1</th>\n",
       "      <td>0</td>\n",
       "      <td>1</td>\n",
       "      <td>0</td>\n",
       "      <td>1</td>\n",
       "      <td>0</td>\n",
       "      <td>1</td>\n",
       "      <td>0</td>\n",
       "      <td>0</td>\n",
       "      <td>1</td>\n",
       "      <td>0</td>\n",
       "      <td>...</td>\n",
       "      <td>0</td>\n",
       "      <td>1</td>\n",
       "      <td>0</td>\n",
       "      <td>1</td>\n",
       "      <td>0</td>\n",
       "      <td>1</td>\n",
       "      <td>0</td>\n",
       "      <td>1</td>\n",
       "      <td>0</td>\n",
       "      <td>0</td>\n",
       "    </tr>\n",
       "    <tr>\n",
       "      <th>2</th>\n",
       "      <td>0</td>\n",
       "      <td>0</td>\n",
       "      <td>1</td>\n",
       "      <td>1</td>\n",
       "      <td>0</td>\n",
       "      <td>0</td>\n",
       "      <td>1</td>\n",
       "      <td>1</td>\n",
       "      <td>0</td>\n",
       "      <td>0</td>\n",
       "      <td>...</td>\n",
       "      <td>0</td>\n",
       "      <td>0</td>\n",
       "      <td>0</td>\n",
       "      <td>1</td>\n",
       "      <td>0</td>\n",
       "      <td>0</td>\n",
       "      <td>1</td>\n",
       "      <td>1</td>\n",
       "      <td>0</td>\n",
       "      <td>0</td>\n",
       "    </tr>\n",
       "    <tr>\n",
       "      <th>3</th>\n",
       "      <td>1</td>\n",
       "      <td>1</td>\n",
       "      <td>1</td>\n",
       "      <td>0</td>\n",
       "      <td>0</td>\n",
       "      <td>0</td>\n",
       "      <td>1</td>\n",
       "      <td>1</td>\n",
       "      <td>0</td>\n",
       "      <td>0</td>\n",
       "      <td>...</td>\n",
       "      <td>1</td>\n",
       "      <td>0</td>\n",
       "      <td>1</td>\n",
       "      <td>1</td>\n",
       "      <td>0</td>\n",
       "      <td>0</td>\n",
       "      <td>1</td>\n",
       "      <td>1</td>\n",
       "      <td>0</td>\n",
       "      <td>0</td>\n",
       "    </tr>\n",
       "    <tr>\n",
       "      <th>4</th>\n",
       "      <td>0</td>\n",
       "      <td>1</td>\n",
       "      <td>0</td>\n",
       "      <td>1</td>\n",
       "      <td>0</td>\n",
       "      <td>1</td>\n",
       "      <td>1</td>\n",
       "      <td>1</td>\n",
       "      <td>1</td>\n",
       "      <td>1</td>\n",
       "      <td>...</td>\n",
       "      <td>0</td>\n",
       "      <td>0</td>\n",
       "      <td>0</td>\n",
       "      <td>1</td>\n",
       "      <td>0</td>\n",
       "      <td>1</td>\n",
       "      <td>0</td>\n",
       "      <td>1</td>\n",
       "      <td>1</td>\n",
       "      <td>0</td>\n",
       "    </tr>\n",
       "    <tr>\n",
       "      <th>...</th>\n",
       "      <td>...</td>\n",
       "      <td>...</td>\n",
       "      <td>...</td>\n",
       "      <td>...</td>\n",
       "      <td>...</td>\n",
       "      <td>...</td>\n",
       "      <td>...</td>\n",
       "      <td>...</td>\n",
       "      <td>...</td>\n",
       "      <td>...</td>\n",
       "      <td>...</td>\n",
       "      <td>...</td>\n",
       "      <td>...</td>\n",
       "      <td>...</td>\n",
       "      <td>...</td>\n",
       "      <td>...</td>\n",
       "      <td>...</td>\n",
       "      <td>...</td>\n",
       "      <td>...</td>\n",
       "      <td>...</td>\n",
       "      <td>...</td>\n",
       "    </tr>\n",
       "    <tr>\n",
       "      <th>9995</th>\n",
       "      <td>0</td>\n",
       "      <td>0</td>\n",
       "      <td>0</td>\n",
       "      <td>1</td>\n",
       "      <td>0</td>\n",
       "      <td>1</td>\n",
       "      <td>1</td>\n",
       "      <td>0</td>\n",
       "      <td>1</td>\n",
       "      <td>0</td>\n",
       "      <td>...</td>\n",
       "      <td>0</td>\n",
       "      <td>1</td>\n",
       "      <td>0</td>\n",
       "      <td>0</td>\n",
       "      <td>1</td>\n",
       "      <td>0</td>\n",
       "      <td>0</td>\n",
       "      <td>1</td>\n",
       "      <td>1</td>\n",
       "      <td>0</td>\n",
       "    </tr>\n",
       "    <tr>\n",
       "      <th>9996</th>\n",
       "      <td>1</td>\n",
       "      <td>0</td>\n",
       "      <td>1</td>\n",
       "      <td>1</td>\n",
       "      <td>1</td>\n",
       "      <td>0</td>\n",
       "      <td>1</td>\n",
       "      <td>1</td>\n",
       "      <td>0</td>\n",
       "      <td>0</td>\n",
       "      <td>...</td>\n",
       "      <td>1</td>\n",
       "      <td>0</td>\n",
       "      <td>1</td>\n",
       "      <td>1</td>\n",
       "      <td>0</td>\n",
       "      <td>0</td>\n",
       "      <td>1</td>\n",
       "      <td>0</td>\n",
       "      <td>0</td>\n",
       "      <td>0</td>\n",
       "    </tr>\n",
       "    <tr>\n",
       "      <th>9997</th>\n",
       "      <td>0</td>\n",
       "      <td>0</td>\n",
       "      <td>1</td>\n",
       "      <td>0</td>\n",
       "      <td>1</td>\n",
       "      <td>0</td>\n",
       "      <td>0</td>\n",
       "      <td>1</td>\n",
       "      <td>0</td>\n",
       "      <td>1</td>\n",
       "      <td>...</td>\n",
       "      <td>1</td>\n",
       "      <td>1</td>\n",
       "      <td>1</td>\n",
       "      <td>0</td>\n",
       "      <td>1</td>\n",
       "      <td>1</td>\n",
       "      <td>1</td>\n",
       "      <td>0</td>\n",
       "      <td>0</td>\n",
       "      <td>0</td>\n",
       "    </tr>\n",
       "    <tr>\n",
       "      <th>9998</th>\n",
       "      <td>1</td>\n",
       "      <td>1</td>\n",
       "      <td>0</td>\n",
       "      <td>1</td>\n",
       "      <td>0</td>\n",
       "      <td>0</td>\n",
       "      <td>1</td>\n",
       "      <td>0</td>\n",
       "      <td>0</td>\n",
       "      <td>0</td>\n",
       "      <td>...</td>\n",
       "      <td>0</td>\n",
       "      <td>0</td>\n",
       "      <td>0</td>\n",
       "      <td>0</td>\n",
       "      <td>1</td>\n",
       "      <td>1</td>\n",
       "      <td>0</td>\n",
       "      <td>1</td>\n",
       "      <td>0</td>\n",
       "      <td>0</td>\n",
       "    </tr>\n",
       "    <tr>\n",
       "      <th>9999</th>\n",
       "      <td>1</td>\n",
       "      <td>0</td>\n",
       "      <td>0</td>\n",
       "      <td>0</td>\n",
       "      <td>0</td>\n",
       "      <td>1</td>\n",
       "      <td>0</td>\n",
       "      <td>0</td>\n",
       "      <td>1</td>\n",
       "      <td>1</td>\n",
       "      <td>...</td>\n",
       "      <td>0</td>\n",
       "      <td>1</td>\n",
       "      <td>0</td>\n",
       "      <td>1</td>\n",
       "      <td>0</td>\n",
       "      <td>0</td>\n",
       "      <td>0</td>\n",
       "      <td>1</td>\n",
       "      <td>1</td>\n",
       "      <td>0</td>\n",
       "    </tr>\n",
       "  </tbody>\n",
       "</table>\n",
       "<p>10000 rows × 130 columns</p>\n",
       "</div>"
      ],
      "text/plain": [
       "      sex  smoker  gen_1  gen_2  gen_3  gen_4  gen_5  gen_6  gen_7  gen_8  \\\n",
       "0       0       0      0      0      1      1      0      0      1      1   \n",
       "1       0       1      0      1      0      1      0      0      1      0   \n",
       "2       0       0      1      1      0      0      1      1      0      0   \n",
       "3       1       1      1      0      0      0      1      1      0      0   \n",
       "4       0       1      0      1      0      1      1      1      1      1   \n",
       "...   ...     ...    ...    ...    ...    ...    ...    ...    ...    ...   \n",
       "9995    0       0      0      1      0      1      1      0      1      0   \n",
       "9996    1       0      1      1      1      0      1      1      0      0   \n",
       "9997    0       0      1      0      1      0      0      1      0      1   \n",
       "9998    1       1      0      1      0      0      1      0      0      0   \n",
       "9999    1       0      0      0      0      1      0      0      1      1   \n",
       "\n",
       "      ...  gen_119  gen_120  gen_121  gen_122  gen_123  gen_124  gen_125  \\\n",
       "0     ...        0        1        1        0        1        1        0   \n",
       "1     ...        0        1        0        1        0        1        0   \n",
       "2     ...        0        0        0        1        0        0        1   \n",
       "3     ...        1        0        1        1        0        0        1   \n",
       "4     ...        0        0        0        1        0        1        0   \n",
       "...   ...      ...      ...      ...      ...      ...      ...      ...   \n",
       "9995  ...        0        1        0        0        1        0        0   \n",
       "9996  ...        1        0        1        1        0        0        1   \n",
       "9997  ...        1        1        1        0        1        1        1   \n",
       "9998  ...        0        0        0        0        1        1        0   \n",
       "9999  ...        0        1        0        1        0        0        0   \n",
       "\n",
       "      gen_126  symptom_1  symptom_2  \n",
       "0           0          1          0  \n",
       "1           1          0          0  \n",
       "2           1          0          0  \n",
       "3           1          0          0  \n",
       "4           1          1          0  \n",
       "...       ...        ...        ...  \n",
       "9995        1          1          0  \n",
       "9996        0          0          0  \n",
       "9997        0          0          0  \n",
       "9998        1          0          0  \n",
       "9999        1          1          0  \n",
       "\n",
       "[10000 rows x 130 columns]"
      ]
     },
     "execution_count": 107,
     "metadata": {},
     "output_type": "execute_result"
    }
   ],
   "source": [
    "X = pd.read_csv(feature_path, delimiter=\" \", names=[\"sex\", \"smoker\"] \\\n",
    "                                           + [f\"gen_{i}\" for i in range(1, 127)] \\\n",
    "                                           + [\"symptom_1\",\"symptom_2\"])\n",
    "S = X[[\"symptom_1\", \"symptom_2\"]]\n",
    "X"
   ]
  },
  {
   "cell_type": "markdown",
   "metadata": {},
   "source": [
    "### Data privacy  \n",
    "\n",
    "Every single attribute in the dataset is considered sensitive according to \n",
    "[the european commision](https://ec.europa.eu/info/law/law-topic/data-protection/reform/rules-business-and-organisations/legal-grounds-processing-data/sensitive-data/what-personal-data-considered-sensitive_en#:~:text=The%20following%20personal%20data%20is,trade%2Dunion%20membership%3B&text=data%20concerning%20a%20person's%20sex%20life%20or%20sexual%20orientation.), meaning that it is highly important that the identities of these individuals are protected. Patient data is usually kept safe at hospitals, and only accessed by authorized personnel. For this data to be public, the patients would either have to consent to their information being published, or have their identity protected using some privacy measures. Genetic attributes are definitely identifiers, and would either have to be dropped, grouped or applied noise to. Pragmatically speaking, this dataset is either synthetic or public with the consent of the individuals, meaning that we do not apply privacy mechanisms in this project.  \n",
    "\n",
    "\n"
   ]
  },
  {
   "cell_type": "markdown",
   "metadata": {},
   "source": [
    "### Data relations\n",
    "\n",
    "With the data, we asssume that every individual has some underlying condition, despite not showing the same (or any) symptoms. \n",
    "\n",
    "For these two symptoms, we have 128 binary features. If it is a single-cause model, a single characteristic of each individual is sufficient to explain the symptoms. If that is not the case, we have a multiple cause model. \n",
    "\n",
    "Before looking further into the dataset, it is important that we address the existence of confounder variables.  \n",
    "Confounder variables will likely play a role in determining the symptoms considering we have a fairly limited dataset regarding the individuals.   The confounder variables could for instnace be associated with parents genetical data, lifestyle ... among many other considerable attributes absent from this dataset. The relationships we assume can be represented as a graphical model as such:\n",
    "\n",
    "$Z \\rightarrow X_{\\setminus S} \\rightarrow S \\rightarrow (a \\rightarrow y) \\leftarrow \\pi_0$    \n",
    "$Z \\rightarrow S$\n",
    "\n",
    "Z - confounder variable(s)  \n",
    "X - attributes in dataset  \n",
    "S - symptoms  \n",
    "a - action  \n",
    "y - outcome  \n",
    "$\\pi_0$ - policy determining actions a \n"
   ]
  },
  {
   "cell_type": "markdown",
   "metadata": {},
   "source": [
    "On the contrary, even if we choose to ignore confounder variables, should we believe there is a multi-cause model in the dataset?  \n",
    "\n",
    "Before making assumptions about the attribute's relation to the symptoms, we should look at the distribution in our dataset."
   ]
  },
  {
   "cell_type": "code",
   "execution_count": 108,
   "metadata": {},
   "outputs": [],
   "source": [
    "s1, = X[[\"symptom_1\"]].to_numpy().T\n",
    "s2, = X[[\"symptom_2\"]].to_numpy().T\n",
    "X_symptoms = s1 + s2\n",
    "none, one, both = [(X_symptoms == i).sum() for i in range(3)]\n",
    "fig, (ax1, ax2) =  plt.subplots(1, 2, figsize=(12, 4))\n",
    "\n",
    "pd.DataFrame({\"Symptom 1\": s1.sum(), \"Symptom 2\": s2.sum()}, index=[\"amount\"]) \\\n",
    "  .plot.bar(title=\"Individuals having symptoms in S\", rot=1, ax=ax1)\n",
    "    \n",
    "pd.DataFrame({\"Neither\": none, \"One symptom\": one, \"Both\": both}, index=[\"amount\"]) \\\n",
    "  .plot.bar(title=\"Individals having symptoms in S\", rot=1, ax=ax2)\n",
    "None"
   ]
  },
  {
   "cell_type": "markdown",
   "metadata": {},
   "source": [
    "Notice how symptom 2 is underrepresented in the dataset in addition to the fact that half of the dataset describes individuals with neither symptom 1 or 2. Though we only have two observable symptoms in the dataset, there might be other latent symptoms affecting the individuals as well."
   ]
  },
  {
   "cell_type": "markdown",
   "metadata": {},
   "source": [
    "### Structure in the data\n",
    "\n",
    "To get some intuition about the structure in the data, we'd like to visualize it.  \n",
    "Considering our attributes are binary, we have to be picky about which techniques to use."
   ]
  },
  {
   "cell_type": "code",
   "execution_count": 109,
   "metadata": {
    "scrolled": false
   },
   "outputs": [
    {
     "data": {
      "text/plain": [
       "(0.32643006110799566, 0.8995593171853962)"
      ]
     },
     "execution_count": 109,
     "metadata": {},
     "output_type": "execute_result"
    }
   ],
   "source": [
    "test_model = PCA(n_components=X.shape[1], random_state=SEED)\n",
    "test_model.fit(X)\n",
    "score = np.cumsum(test_model.explained_variance_ratio_)\n",
    "score[2], score[70]"
   ]
  },
  {
   "cell_type": "markdown",
   "metadata": {},
   "source": [
    "We use logisticPCA <a name=\"ref-1\"/>[(Landgraf and Lee, 2020)](#cite-landgraf2020dimensionality)\n",
    "\n",
    "LogisticPCA estimates the natural parameters of a Bernoulli distribution in a lower dimensional space. This is done by projecting the natural parameters from the saturated model. A rank-k projection matrix, or equivalently a d x k orthogonal matrix U, is solved for to minimize the Bernoulli deviance. Since the natural parameters from the saturated model are either negative or positive infinity, an additional tuning parameter m is needed to approximate them.\n",
    "\n",
    "We'll use the logisticPCA R library in the R cells below."
   ]
  },
  {
   "cell_type": "code",
   "execution_count": 110,
   "metadata": {
    "scrolled": false
   },
   "outputs": [],
   "source": [
    "%%R -i X\n",
    "# Import data X from python scope\n",
    "library(logisticPCA)\n",
    "lpca = logisticPCA(X, k=2, quiet=TRUE)\n",
    "fitted(lpca)\n",
    "X_lpca = predict(lpca)"
   ]
  },
  {
   "cell_type": "code",
   "execution_count": 111,
   "metadata": {},
   "outputs": [],
   "source": [
    "%R -o X_lpca\n",
    "# export lpca prediction from R scope\n",
    "\n",
    "x1, x2 = X_lpca.T\n",
    "plt.subplots(figsize=(12, 6))\n",
    "conds = [(s1 == j) & (s2 == i) for i in range(2) for j in range(2)]\n",
    "for cond, label in zip(conds, [\"None\", \"symptom1\", \"symptom2\", \"Both\"]):\n",
    "    plt.scatter(x1[cond], x2[cond], label=label, alpha=0.4)\n",
    "    plt.xlabel(\"LPC1\")\n",
    "    plt.ylabel(\"LPC2\")\n",
    "plt.legend()\n",
    "plt.grid()"
   ]
  },
  {
   "cell_type": "markdown",
   "metadata": {},
   "source": [
    "If we had a single cause model and we knew that single cause existed in X, the data would certainly be much more separate (even despite our visual limitations). However, we do see some sparsity/separation, primarily between symptom 1 and no symptoms. By looking at the data, we can also see some sparsity diagonally across the plot indicating a k > 1 cluster model."
   ]
  },
  {
   "cell_type": "markdown",
   "metadata": {},
   "source": [
    "We test using a 2 cluster model"
   ]
  },
  {
   "cell_type": "code",
   "execution_count": 112,
   "metadata": {},
   "outputs": [],
   "source": [
    "Xf = features = X.to_numpy()[:, :-2]\n",
    "clusterer = KMeans(n_clusters=2, random_state=SEED)\n",
    "k2labels = clusterer.fit_predict(Xf)\n",
    "\n",
    "centroids = clusterer.cluster_centers_\n",
    "feat_centroids = np.vstack((features, centroids))"
   ]
  },
  {
   "cell_type": "code",
   "execution_count": 113,
   "metadata": {},
   "outputs": [],
   "source": [
    "%%R -i feat_centroids\n",
    "lpca = logisticPCA(feat_centroids, k=2)\n",
    "fitted(lpca)\n",
    "feat2d = predict(lpca)"
   ]
  },
  {
   "cell_type": "code",
   "execution_count": 114,
   "metadata": {},
   "outputs": [],
   "source": [
    "%R -o feat2d\n",
    "xp = feat2d[:-2]\n",
    "centroids = feat2d[-2:]\n",
    "\n",
    "fig = plt.figure(figsize=(12, 6))\n",
    "ax = fig.add_subplot()\n",
    "\n",
    "colors = cm.nipy_spectral(k2labels.astype(float) / 2)\n",
    "\n",
    "ax.set_title(\"2-means clustering\")\n",
    "\n",
    "\n",
    "ax.set_xlabel(\"LPC1\")\n",
    "ax.set_ylabel(\"LPC2\")\n",
    "\n",
    "ax.scatter(*xp.T, s=30, c=colors, alpha=0.5)\n",
    "ax.scatter(*centroids.T, marker='o', c=\"white\", alpha=1, s=200, edgecolor='k')\n",
    "for i, c in enumerate(centroids):\n",
    "    ax.scatter(c[0], c[1], marker='$%d$' % i, alpha=1, s=50, edgecolor='k')"
   ]
  },
  {
   "cell_type": "code",
   "execution_count": 115,
   "metadata": {
    "scrolled": true
   },
   "outputs": [
    {
     "data": {
      "text/plain": [
       "(0.6618, 0.08800879517699431)"
      ]
     },
     "execution_count": 115,
     "metadata": {},
     "output_type": "execute_result"
    }
   ],
   "source": [
    "acc_symptoms = np.mean(k2labels == S[\"symptom_1\"].to_numpy())\n",
    "cluster_score = silhouette_score(X, k2labels)\n",
    "acc_symptoms, cluster_score"
   ]
  },
  {
   "cell_type": "markdown",
   "metadata": {},
   "source": [
    "With a two-cluster model we get 66% accuracy on symptom 1 which is interesting considering that our mean silhouette score was almost zero (0.08)"
   ]
  },
  {
   "cell_type": "markdown",
   "metadata": {},
   "source": [
    "So how do the data attributes relate to these symptoms? To find out, we look at the correlation matrix. Pandas built in function uses Pearson correlation coefficient. This works well on continous/numerical data, but is not appropriate for binary datasets, which is what we are using. The metric we decided on is the Jaccard-Needham similarity"
   ]
  },
  {
   "cell_type": "code",
   "execution_count": 116,
   "metadata": {},
   "outputs": [
    {
     "data": {
      "text/html": [
       "<div>\n",
       "<style scoped>\n",
       "    .dataframe tbody tr th:only-of-type {\n",
       "        vertical-align: middle;\n",
       "    }\n",
       "\n",
       "    .dataframe tbody tr th {\n",
       "        vertical-align: top;\n",
       "    }\n",
       "\n",
       "    .dataframe thead th {\n",
       "        text-align: right;\n",
       "    }\n",
       "</style>\n",
       "<table border=\"1\" class=\"dataframe\">\n",
       "  <thead>\n",
       "    <tr style=\"text-align: right;\">\n",
       "      <th></th>\n",
       "      <th>sex</th>\n",
       "      <th>smoker</th>\n",
       "      <th>gen_1</th>\n",
       "      <th>gen_2</th>\n",
       "      <th>gen_3</th>\n",
       "      <th>gen_4</th>\n",
       "      <th>gen_5</th>\n",
       "      <th>gen_6</th>\n",
       "      <th>gen_7</th>\n",
       "      <th>gen_8</th>\n",
       "      <th>...</th>\n",
       "      <th>gen_119</th>\n",
       "      <th>gen_120</th>\n",
       "      <th>gen_121</th>\n",
       "      <th>gen_122</th>\n",
       "      <th>gen_123</th>\n",
       "      <th>gen_124</th>\n",
       "      <th>gen_125</th>\n",
       "      <th>gen_126</th>\n",
       "      <th>symptom_1</th>\n",
       "      <th>symptom_2</th>\n",
       "    </tr>\n",
       "  </thead>\n",
       "  <tbody>\n",
       "    <tr>\n",
       "      <th>sex</th>\n",
       "      <td>1.000000</td>\n",
       "      <td>0.262565</td>\n",
       "      <td>0.340029</td>\n",
       "      <td>0.344594</td>\n",
       "      <td>0.332142</td>\n",
       "      <td>0.333646</td>\n",
       "      <td>0.327568</td>\n",
       "      <td>0.335952</td>\n",
       "      <td>0.328073</td>\n",
       "      <td>0.327799</td>\n",
       "      <td>...</td>\n",
       "      <td>0.339973</td>\n",
       "      <td>0.331235</td>\n",
       "      <td>0.334356</td>\n",
       "      <td>0.334973</td>\n",
       "      <td>0.323148</td>\n",
       "      <td>0.328303</td>\n",
       "      <td>0.335589</td>\n",
       "      <td>0.360898</td>\n",
       "      <td>0.322988</td>\n",
       "      <td>0.092302</td>\n",
       "    </tr>\n",
       "    <tr>\n",
       "      <th>smoker</th>\n",
       "      <td>0.262565</td>\n",
       "      <td>1.000000</td>\n",
       "      <td>0.236687</td>\n",
       "      <td>0.212690</td>\n",
       "      <td>0.228070</td>\n",
       "      <td>0.203707</td>\n",
       "      <td>0.224311</td>\n",
       "      <td>0.229938</td>\n",
       "      <td>0.204194</td>\n",
       "      <td>0.215014</td>\n",
       "      <td>...</td>\n",
       "      <td>0.223488</td>\n",
       "      <td>0.201823</td>\n",
       "      <td>0.210427</td>\n",
       "      <td>0.217023</td>\n",
       "      <td>0.219744</td>\n",
       "      <td>0.218863</td>\n",
       "      <td>0.223744</td>\n",
       "      <td>0.222222</td>\n",
       "      <td>0.196382</td>\n",
       "      <td>0.141137</td>\n",
       "    </tr>\n",
       "    <tr>\n",
       "      <th>gen_1</th>\n",
       "      <td>0.340029</td>\n",
       "      <td>0.236687</td>\n",
       "      <td>1.000000</td>\n",
       "      <td>0.319943</td>\n",
       "      <td>0.534234</td>\n",
       "      <td>0.177856</td>\n",
       "      <td>0.372928</td>\n",
       "      <td>0.645867</td>\n",
       "      <td>0.183879</td>\n",
       "      <td>0.281395</td>\n",
       "      <td>...</td>\n",
       "      <td>0.500596</td>\n",
       "      <td>0.185370</td>\n",
       "      <td>0.339915</td>\n",
       "      <td>0.442299</td>\n",
       "      <td>0.398385</td>\n",
       "      <td>0.319324</td>\n",
       "      <td>0.588809</td>\n",
       "      <td>0.312228</td>\n",
       "      <td>0.224162</td>\n",
       "      <td>0.122882</td>\n",
       "    </tr>\n",
       "    <tr>\n",
       "      <th>gen_2</th>\n",
       "      <td>0.344594</td>\n",
       "      <td>0.212690</td>\n",
       "      <td>0.319943</td>\n",
       "      <td>1.000000</td>\n",
       "      <td>0.280035</td>\n",
       "      <td>0.383460</td>\n",
       "      <td>0.361213</td>\n",
       "      <td>0.276733</td>\n",
       "      <td>0.238402</td>\n",
       "      <td>0.220811</td>\n",
       "      <td>...</td>\n",
       "      <td>0.317210</td>\n",
       "      <td>0.215456</td>\n",
       "      <td>0.162075</td>\n",
       "      <td>0.260020</td>\n",
       "      <td>0.252080</td>\n",
       "      <td>0.479087</td>\n",
       "      <td>0.314460</td>\n",
       "      <td>0.469134</td>\n",
       "      <td>0.555983</td>\n",
       "      <td>0.111966</td>\n",
       "    </tr>\n",
       "    <tr>\n",
       "      <th>gen_3</th>\n",
       "      <td>0.332142</td>\n",
       "      <td>0.228070</td>\n",
       "      <td>0.534234</td>\n",
       "      <td>0.280035</td>\n",
       "      <td>1.000000</td>\n",
       "      <td>0.262958</td>\n",
       "      <td>0.337118</td>\n",
       "      <td>0.469918</td>\n",
       "      <td>0.254154</td>\n",
       "      <td>0.452621</td>\n",
       "      <td>...</td>\n",
       "      <td>0.596697</td>\n",
       "      <td>0.317131</td>\n",
       "      <td>0.442703</td>\n",
       "      <td>0.237838</td>\n",
       "      <td>0.429222</td>\n",
       "      <td>0.393935</td>\n",
       "      <td>0.433154</td>\n",
       "      <td>0.274900</td>\n",
       "      <td>0.258560</td>\n",
       "      <td>0.162580</td>\n",
       "    </tr>\n",
       "    <tr>\n",
       "      <th>...</th>\n",
       "      <td>...</td>\n",
       "      <td>...</td>\n",
       "      <td>...</td>\n",
       "      <td>...</td>\n",
       "      <td>...</td>\n",
       "      <td>...</td>\n",
       "      <td>...</td>\n",
       "      <td>...</td>\n",
       "      <td>...</td>\n",
       "      <td>...</td>\n",
       "      <td>...</td>\n",
       "      <td>...</td>\n",
       "      <td>...</td>\n",
       "      <td>...</td>\n",
       "      <td>...</td>\n",
       "      <td>...</td>\n",
       "      <td>...</td>\n",
       "      <td>...</td>\n",
       "      <td>...</td>\n",
       "      <td>...</td>\n",
       "      <td>...</td>\n",
       "    </tr>\n",
       "    <tr>\n",
       "      <th>gen_124</th>\n",
       "      <td>0.328303</td>\n",
       "      <td>0.218863</td>\n",
       "      <td>0.319324</td>\n",
       "      <td>0.479087</td>\n",
       "      <td>0.393935</td>\n",
       "      <td>0.357454</td>\n",
       "      <td>0.302793</td>\n",
       "      <td>0.214692</td>\n",
       "      <td>0.319432</td>\n",
       "      <td>0.316698</td>\n",
       "      <td>...</td>\n",
       "      <td>0.260307</td>\n",
       "      <td>0.255112</td>\n",
       "      <td>0.261346</td>\n",
       "      <td>0.190544</td>\n",
       "      <td>0.349380</td>\n",
       "      <td>1.000000</td>\n",
       "      <td>0.193151</td>\n",
       "      <td>0.380721</td>\n",
       "      <td>0.381000</td>\n",
       "      <td>0.107374</td>\n",
       "    </tr>\n",
       "    <tr>\n",
       "      <th>gen_125</th>\n",
       "      <td>0.335589</td>\n",
       "      <td>0.223744</td>\n",
       "      <td>0.588809</td>\n",
       "      <td>0.314460</td>\n",
       "      <td>0.433154</td>\n",
       "      <td>0.149563</td>\n",
       "      <td>0.418272</td>\n",
       "      <td>0.585762</td>\n",
       "      <td>0.192556</td>\n",
       "      <td>0.228519</td>\n",
       "      <td>...</td>\n",
       "      <td>0.546909</td>\n",
       "      <td>0.249405</td>\n",
       "      <td>0.351104</td>\n",
       "      <td>0.461639</td>\n",
       "      <td>0.420204</td>\n",
       "      <td>0.193151</td>\n",
       "      <td>1.000000</td>\n",
       "      <td>0.317800</td>\n",
       "      <td>0.207719</td>\n",
       "      <td>0.110230</td>\n",
       "    </tr>\n",
       "    <tr>\n",
       "      <th>gen_126</th>\n",
       "      <td>0.360898</td>\n",
       "      <td>0.222222</td>\n",
       "      <td>0.312228</td>\n",
       "      <td>0.469134</td>\n",
       "      <td>0.274900</td>\n",
       "      <td>0.462094</td>\n",
       "      <td>0.385250</td>\n",
       "      <td>0.331074</td>\n",
       "      <td>0.376045</td>\n",
       "      <td>0.351810</td>\n",
       "      <td>...</td>\n",
       "      <td>0.321857</td>\n",
       "      <td>0.359192</td>\n",
       "      <td>0.307945</td>\n",
       "      <td>0.353833</td>\n",
       "      <td>0.328031</td>\n",
       "      <td>0.380721</td>\n",
       "      <td>0.317800</td>\n",
       "      <td>1.000000</td>\n",
       "      <td>0.432704</td>\n",
       "      <td>0.077365</td>\n",
       "    </tr>\n",
       "    <tr>\n",
       "      <th>symptom_1</th>\n",
       "      <td>0.322988</td>\n",
       "      <td>0.196382</td>\n",
       "      <td>0.224162</td>\n",
       "      <td>0.555983</td>\n",
       "      <td>0.258560</td>\n",
       "      <td>0.624087</td>\n",
       "      <td>0.368662</td>\n",
       "      <td>0.269697</td>\n",
       "      <td>0.333054</td>\n",
       "      <td>0.373143</td>\n",
       "      <td>...</td>\n",
       "      <td>0.280867</td>\n",
       "      <td>0.319187</td>\n",
       "      <td>0.218754</td>\n",
       "      <td>0.243330</td>\n",
       "      <td>0.261589</td>\n",
       "      <td>0.381000</td>\n",
       "      <td>0.207719</td>\n",
       "      <td>0.432704</td>\n",
       "      <td>1.000000</td>\n",
       "      <td>0.082043</td>\n",
       "    </tr>\n",
       "    <tr>\n",
       "      <th>symptom_2</th>\n",
       "      <td>0.092302</td>\n",
       "      <td>0.141137</td>\n",
       "      <td>0.122882</td>\n",
       "      <td>0.111966</td>\n",
       "      <td>0.162580</td>\n",
       "      <td>0.062893</td>\n",
       "      <td>0.085589</td>\n",
       "      <td>0.101489</td>\n",
       "      <td>0.059183</td>\n",
       "      <td>0.067612</td>\n",
       "      <td>...</td>\n",
       "      <td>0.122771</td>\n",
       "      <td>0.066751</td>\n",
       "      <td>0.088203</td>\n",
       "      <td>0.070651</td>\n",
       "      <td>0.097588</td>\n",
       "      <td>0.107374</td>\n",
       "      <td>0.110230</td>\n",
       "      <td>0.077365</td>\n",
       "      <td>0.082043</td>\n",
       "      <td>1.000000</td>\n",
       "    </tr>\n",
       "  </tbody>\n",
       "</table>\n",
       "<p>130 rows × 130 columns</p>\n",
       "</div>"
      ],
      "text/plain": [
       "                sex    smoker     gen_1     gen_2     gen_3     gen_4  \\\n",
       "sex        1.000000  0.262565  0.340029  0.344594  0.332142  0.333646   \n",
       "smoker     0.262565  1.000000  0.236687  0.212690  0.228070  0.203707   \n",
       "gen_1      0.340029  0.236687  1.000000  0.319943  0.534234  0.177856   \n",
       "gen_2      0.344594  0.212690  0.319943  1.000000  0.280035  0.383460   \n",
       "gen_3      0.332142  0.228070  0.534234  0.280035  1.000000  0.262958   \n",
       "...             ...       ...       ...       ...       ...       ...   \n",
       "gen_124    0.328303  0.218863  0.319324  0.479087  0.393935  0.357454   \n",
       "gen_125    0.335589  0.223744  0.588809  0.314460  0.433154  0.149563   \n",
       "gen_126    0.360898  0.222222  0.312228  0.469134  0.274900  0.462094   \n",
       "symptom_1  0.322988  0.196382  0.224162  0.555983  0.258560  0.624087   \n",
       "symptom_2  0.092302  0.141137  0.122882  0.111966  0.162580  0.062893   \n",
       "\n",
       "              gen_5     gen_6     gen_7     gen_8  ...   gen_119   gen_120  \\\n",
       "sex        0.327568  0.335952  0.328073  0.327799  ...  0.339973  0.331235   \n",
       "smoker     0.224311  0.229938  0.204194  0.215014  ...  0.223488  0.201823   \n",
       "gen_1      0.372928  0.645867  0.183879  0.281395  ...  0.500596  0.185370   \n",
       "gen_2      0.361213  0.276733  0.238402  0.220811  ...  0.317210  0.215456   \n",
       "gen_3      0.337118  0.469918  0.254154  0.452621  ...  0.596697  0.317131   \n",
       "...             ...       ...       ...       ...  ...       ...       ...   \n",
       "gen_124    0.302793  0.214692  0.319432  0.316698  ...  0.260307  0.255112   \n",
       "gen_125    0.418272  0.585762  0.192556  0.228519  ...  0.546909  0.249405   \n",
       "gen_126    0.385250  0.331074  0.376045  0.351810  ...  0.321857  0.359192   \n",
       "symptom_1  0.368662  0.269697  0.333054  0.373143  ...  0.280867  0.319187   \n",
       "symptom_2  0.085589  0.101489  0.059183  0.067612  ...  0.122771  0.066751   \n",
       "\n",
       "            gen_121   gen_122   gen_123   gen_124   gen_125   gen_126  \\\n",
       "sex        0.334356  0.334973  0.323148  0.328303  0.335589  0.360898   \n",
       "smoker     0.210427  0.217023  0.219744  0.218863  0.223744  0.222222   \n",
       "gen_1      0.339915  0.442299  0.398385  0.319324  0.588809  0.312228   \n",
       "gen_2      0.162075  0.260020  0.252080  0.479087  0.314460  0.469134   \n",
       "gen_3      0.442703  0.237838  0.429222  0.393935  0.433154  0.274900   \n",
       "...             ...       ...       ...       ...       ...       ...   \n",
       "gen_124    0.261346  0.190544  0.349380  1.000000  0.193151  0.380721   \n",
       "gen_125    0.351104  0.461639  0.420204  0.193151  1.000000  0.317800   \n",
       "gen_126    0.307945  0.353833  0.328031  0.380721  0.317800  1.000000   \n",
       "symptom_1  0.218754  0.243330  0.261589  0.381000  0.207719  0.432704   \n",
       "symptom_2  0.088203  0.070651  0.097588  0.107374  0.110230  0.077365   \n",
       "\n",
       "           symptom_1  symptom_2  \n",
       "sex         0.322988   0.092302  \n",
       "smoker      0.196382   0.141137  \n",
       "gen_1       0.224162   0.122882  \n",
       "gen_2       0.555983   0.111966  \n",
       "gen_3       0.258560   0.162580  \n",
       "...              ...        ...  \n",
       "gen_124     0.381000   0.107374  \n",
       "gen_125     0.207719   0.110230  \n",
       "gen_126     0.432704   0.077365  \n",
       "symptom_1   1.000000   0.082043  \n",
       "symptom_2   0.082043   1.000000  \n",
       "\n",
       "[130 rows x 130 columns]"
      ]
     },
     "execution_count": 116,
     "metadata": {},
     "output_type": "execute_result"
    }
   ],
   "source": [
    "from scipy.spatial.distance import jaccard\n",
    "def jaccard_similarity(x1, x2):\n",
    "    return 1 - jaccard(x1, x2)\n",
    "\n",
    "# this jaccard function returns dissimilarity, so we subtract 1 by it to get the similarity\n",
    "corr_jc = X.corr(method=jaccard_similarity)\n",
    "corr_jc"
   ]
  },
  {
   "cell_type": "markdown",
   "metadata": {},
   "source": [
    "Using cosine similarity on this data could also be appropriate, so we will do a comparison, including cosine measures"
   ]
  },
  {
   "cell_type": "code",
   "execution_count": 117,
   "metadata": {},
   "outputs": [],
   "source": [
    "def cosine_similarity(x1, x2):\n",
    "    return (x1 @ x2) / (np.linalg.norm(x1) * np.linalg.norm(x2))\n",
    "\n",
    "corr_cos = X.corr(method=cosine_similarity)"
   ]
  },
  {
   "cell_type": "markdown",
   "metadata": {},
   "source": [
    "We select a similarity threshold to get the most important features. This means that we do not include results with values lower than the threshold"
   ]
  },
  {
   "cell_type": "code",
   "execution_count": 118,
   "metadata": {},
   "outputs": [
    {
     "data": {
      "text/plain": [
       "<AxesSubplot:title={'center':'using cosine similariy, threshold=0.6'}>"
      ]
     },
     "execution_count": 118,
     "metadata": {},
     "output_type": "execute_result"
    }
   ],
   "source": [
    "def get_cond(X_corr, threshold): \n",
    "    return (X_corr[\"symptom_1\"] > threshold) | (X_corr[\"symptom_2\"] > threshold)\n",
    "most_corr_jc = corr_jc.loc[get_cond(corr_jc, 0.4)][[\"symptom_1\", \"symptom_2\"]][:-2]\n",
    "most_corr_cos = corr_cos.loc[get_cond(corr_cos, 0.6)][[\"symptom_1\", \"symptom_2\"]][:-2]\n",
    "\n",
    "fig, (ax1, ax2) = plt.subplots(1, 2, figsize=(16,6))\n",
    "ax1.set_title(f\"Related features using jaccard, threshold={0.4}\")\n",
    "ax2.set_title(f\"using cosine similariy, threshold={0.6}\")\n",
    "sns.heatmap(most_corr_jc, annot=True, ax=ax1, vmin=0, vmax=1, cbar=False)\n",
    "sns.heatmap(most_corr_cos, annot=True, ax=ax2, vmin=0, vmax=1)"
   ]
  },
  {
   "cell_type": "markdown",
   "metadata": {},
   "source": [
    "The first symptom seems likely to be caused, or at the very least affected by by genetical factors more than anything, both positively and negatively. The second symptom did not give us any highly correlated features, which might indicate that a. there is a nonlinear decision boundary between the features and symptom 3, or b. that there are confounder variables affecting this symptom. Nonetheless, there are multiple attributes in the genetic data with a high similarity, meaning that they probably contribute to symptoms, making this a multi-cause model"
   ]
  },
  {
   "cell_type": "code",
   "execution_count": 119,
   "metadata": {
    "scrolled": true
   },
   "outputs": [
    {
     "data": {
      "text/plain": [
       "((945, 130), (1148, 130))"
      ]
     },
     "execution_count": 119,
     "metadata": {},
     "output_type": "execute_result"
    }
   ],
   "source": [
    "X[(X[\"symptom_1\"] == 1) & (X[\"gen_4\"] == 0)].shape, X[(X[\"symptom_1\"] == 1) & (X[\"gen_2\"] == 0)].shape"
   ]
  },
  {
   "cell_type": "markdown",
   "metadata": {},
   "source": [
    "As we can see here, both gen_4 and gen_2 are the two with highest correlation to symptom 1, however there are still instances of symptom 1 being present independent of these attributes"
   ]
  },
  {
   "cell_type": "markdown",
   "metadata": {},
   "source": [
    "***  \n",
    "\n",
    "## 1.2 - Focusing on attributes  \n",
    "Try and determine whether some particular factors are\n",
    "important for disease epidemiology and may require further investigations.\n",
    "You need to be able to validate your findings either through a holdout-set methodology,\n",
    "appropriately used statistical tests, or Bayesian model comparison."
   ]
  },
  {
   "cell_type": "code",
   "execution_count": 120,
   "metadata": {},
   "outputs": [],
   "source": [
    "A = pd.read_csv(action_path, header=None, sep=\" \")\n",
    "Y = pd.read_csv(outcome_path, header=None, sep=\" \")\n",
    "A = A.rename(index=str, columns={0: 'action'})\n",
    "Y = Y.rename(index=str, columns={0: 'outcome'})"
   ]
  },
  {
   "cell_type": "code",
   "execution_count": 121,
   "metadata": {},
   "outputs": [
    {
     "data": {
      "text/plain": [
       "array([1, 0, 0, ..., 0, 0, 1])"
      ]
     },
     "execution_count": 121,
     "metadata": {},
     "output_type": "execute_result"
    }
   ],
   "source": [
    "features = X.drop(S.columns, axis=1)\n",
    "s1, s2 = S.to_numpy().T\n",
    "target = s1 + s2*2\n",
    "target"
   ]
  },
  {
   "cell_type": "markdown",
   "metadata": {},
   "source": [
    "We are assuming symptoms as our target variable. "
   ]
  },
  {
   "cell_type": "markdown",
   "metadata": {},
   "source": [
    "Using L1 regularization on Logistic regression for reducing dimensionality."
   ]
  },
  {
   "cell_type": "code",
   "execution_count": 122,
   "metadata": {},
   "outputs": [
    {
     "name": "stdout",
     "output_type": "stream",
     "text": [
      "[60 78 62 53]\n",
      "[57 71 53 42]\n",
      "[56 59 36 29]\n",
      "[51 32 16 10]\n",
      "[41 16  3  5]\n"
     ]
    }
   ],
   "source": [
    "C = [10, 1, .5, .2, .1]\n",
    "for c in C:\n",
    "    clf = LogisticRegression(penalty='l1', C=c, solver='liblinear', multi_class='ovr')\n",
    "    fit = clf.fit(features, target)\n",
    "    print((fit.coef_[:,:] > np.zeros(fit.coef_.shape[1])).sum(axis=1))"
   ]
  },
  {
   "cell_type": "markdown",
   "metadata": {},
   "source": [
    "Let's check how the features for C=0.1 (41,16,3,5) performs."
   ]
  },
  {
   "cell_type": "code",
   "execution_count": 123,
   "metadata": {},
   "outputs": [
    {
     "data": {
      "text/plain": [
       "array([0, 2, 0, 2, 2, 2, 1, 1, 0, 1, 0, 0, 0, 1, 1, 1, 0, 0, 0, 0, 0, 0,\n",
       "       1, 1, 0, 1, 1, 0, 0, 1, 0, 0, 0, 0, 0, 1, 1, 1, 1, 0, 0, 0, 0, 0,\n",
       "       0, 1, 0, 0, 1, 0, 0, 0, 1, 0, 1, 0, 0, 0, 1, 1, 1, 1, 0, 1, 1, 0,\n",
       "       1, 1, 0, 0, 1, 1, 0, 1, 0, 1, 1, 1, 0, 1, 0, 1, 1, 1, 1, 1, 0, 1,\n",
       "       0, 0, 1, 0, 1, 1, 1, 1, 0, 0, 1, 0, 1, 1, 0, 0, 0, 0, 1, 0, 0, 1,\n",
       "       0, 0, 0, 2, 0, 0, 0, 0, 0, 0, 1, 1, 0, 0, 1, 1, 1, 0])"
      ]
     },
     "execution_count": 123,
     "metadata": {},
     "output_type": "execute_result"
    }
   ],
   "source": [
    "(fit.coef_[:,:] > np.zeros(fit.coef_.shape[1])).sum(axis=0)"
   ]
  },
  {
   "cell_type": "markdown",
   "metadata": {},
   "source": [
    "Most features appear significant in one class only, a few in two but none in more than 2. "
   ]
  },
  {
   "cell_type": "markdown",
   "metadata": {},
   "source": [
    "Using Random Forest for finding feature importance."
   ]
  },
  {
   "cell_type": "code",
   "execution_count": 124,
   "metadata": {},
   "outputs": [
    {
     "data": {
      "text/plain": [
       "1.0"
      ]
     },
     "execution_count": 124,
     "metadata": {},
     "output_type": "execute_result"
    }
   ],
   "source": [
    "clf = RandomForestClassifier(n_estimators=100)\n",
    "clf.fit(features, target)\n",
    "clf.score(features, target)"
   ]
  },
  {
   "cell_type": "code",
   "execution_count": 125,
   "metadata": {},
   "outputs": [],
   "source": [
    "deviations = sem([tree.feature_importances_ for tree in clf.estimators_], axis=0)\n",
    "sorted_feature_ixs = np.argsort(clf.feature_importances_)[::-1]"
   ]
  },
  {
   "cell_type": "markdown",
   "metadata": {},
   "source": [
    "Let's visualize the feature importance for all features."
   ]
  },
  {
   "cell_type": "code",
   "execution_count": 126,
   "metadata": {},
   "outputs": [],
   "source": [
    "plt.bar(range(features.shape[1]), clf.feature_importances_[sorted_feature_ixs],\n",
    "       color=\"r\", yerr=deviations[sorted_feature_ixs], ecolor='g')\n",
    "plt.xlabel('Features', fontsize=10)\n",
    "plt.ylabel('Feature importance score', fontsize=10)\n",
    "plt.show()"
   ]
  },
  {
   "cell_type": "markdown",
   "metadata": {},
   "source": [
    "We can see that only few features are more important. Let's zoom in with only first 10 of the important ones."
   ]
  },
  {
   "cell_type": "code",
   "execution_count": 127,
   "metadata": {},
   "outputs": [
    {
     "data": {
      "text/plain": [
       "Text(0, 0.5, 'Feature importance score')"
      ]
     },
     "execution_count": 127,
     "metadata": {},
     "output_type": "execute_result"
    }
   ],
   "source": [
    "fig, ax = plt.subplots( figsize=(10, 5))\n",
    "plt.bar(range(10), (clf.feature_importances_[sorted_feature_ixs])[:10],\n",
    "       color=\"r\", yerr=(deviations[sorted_feature_ixs])[:10], ecolor='g')\n",
    "plt.xticks(range(10), [X.columns[i] for i in sorted_feature_ixs[:10]])\n",
    "plt.xlabel('Feature number', fontsize=10)\n",
    "plt.ylabel('Feature importance score', fontsize=10)\n",
    "# plt.show()"
   ]
  },
  {
   "cell_type": "markdown",
   "metadata": {},
   "source": [
    "Looking at the above graph, we can select the first four (i.e., 5,3,113,11) features which are clearly more relevant than others. "
   ]
  },
  {
   "cell_type": "code",
   "execution_count": 128,
   "metadata": {},
   "outputs": [],
   "source": [
    "X_imp = X.iloc[:,sorted_feature_ixs[:4]].copy()"
   ]
  },
  {
   "cell_type": "markdown",
   "metadata": {},
   "source": [
    "Let's do clustering with only these important features.\n"
   ]
  },
  {
   "cell_type": "code",
   "execution_count": 129,
   "metadata": {},
   "outputs": [],
   "source": [
    "X_new = pd.concat([X_imp, X.iloc[:,-2:]], axis=1)\n",
    "X_new = X_new[:1000]\n",
    "distances = pairwise_distances(X_new, metric=sokalmichener)"
   ]
  },
  {
   "cell_type": "code",
   "execution_count": 130,
   "metadata": {},
   "outputs": [
    {
     "data": {
      "text/plain": [
       "<BarContainer object of 7 artists>"
      ]
     },
     "execution_count": 130,
     "metadata": {},
     "output_type": "execute_result"
    }
   ],
   "source": [
    "n_cluster = np.arange(1,9)\n",
    "scores = np.zeros(len(n_cluster))\n",
    "clusters = np.zeros([len(X_new), len(n_cluster)], dtype=np.int)\n",
    "for i, n in enumerate(n_cluster):\n",
    "    clusterer = AgglomerativeClustering(n_clusters=n, affinity='precomputed', \n",
    "                                        linkage=\"average\")\n",
    "    clusters[:,i] = clusterer.fit_predict(distances)\n",
    "for i in range(1, len(n_cluster)):\n",
    "    scores[i] = silhouette_score(distances, clusters[:,i], metric='precomputed')\n",
    "plt.bar(n_cluster[1:], scores[1:])"
   ]
  },
  {
   "cell_type": "markdown",
   "metadata": {},
   "source": [
    "### Shap values  \n",
    "\n",
    "We use shap values along with a treexplainer  \n",
    "<a name=\"ref-2\"/>[(Lundberg et al., 2020)](#cite-lundberg2020local)"
   ]
  },
  {
   "cell_type": "code",
   "execution_count": 131,
   "metadata": {},
   "outputs": [],
   "source": [
    "explainer = shap.TreeExplainer(clf)"
   ]
  },
  {
   "cell_type": "code",
   "execution_count": 132,
   "metadata": {},
   "outputs": [],
   "source": [
    "expected_value = explainer.expected_value"
   ]
  },
  {
   "cell_type": "code",
   "execution_count": 133,
   "metadata": {},
   "outputs": [],
   "source": [
    "samples = features.sample(500)\n",
    "shap_values = explainer.shap_values(samples)"
   ]
  },
  {
   "cell_type": "code",
   "execution_count": 134,
   "metadata": {},
   "outputs": [
    {
     "data": {
      "image/png": "[encoded data removed]",
      "text/plain": [
       "<Figure size 900x500 with 4 Axes>"
      ]
     },
     "execution_count": 134,
     "metadata": {},
     "output_type": "execute_result"
    }
   ],
   "source": [
    "%matplotlib agg\n",
    "\n",
    "f = plt.figure(figsize=(9, 5))\n",
    "plt.subplot(1,2,1)\n",
    "plt.title(\"Variable influence for predicting  symptom 1\")\n",
    "shap.summary_plot(shap_values[1], samples, show=False, plot_size=None)\n",
    "\n",
    "plt.subplot(1,2,2)\n",
    "plt.title(\"Variable influence for predicting symptom 2\")\n",
    "shap.summary_plot(shap_values[2], samples, show=False, plot_size=None)\n",
    "plt.tight_layout()\n",
    "f"
   ]
  },
  {
   "cell_type": "code",
   "execution_count": 135,
   "metadata": {},
   "outputs": [
    {
     "data": {
      "image/png": "[encoded data removed]",
      "text/plain": [
       "<Figure size 900x500 with 4 Axes>"
      ]
     },
     "execution_count": 135,
     "metadata": {},
     "output_type": "execute_result"
    }
   ],
   "source": [
    "\n",
    "f = plt.figure(figsize=(9, 5))\n",
    "plt.subplot(1,2,1)\n",
    "plt.title(\"Variable influence for predicting 'neither symptoms'\")\n",
    "shap.summary_plot(shap_values[0], samples, show=False, plot_size=None)\n",
    "\n",
    "\n",
    "plt.subplot(1,2,2)\n",
    "plt.title(\"Variable influence for predicting 'both symptoms'\")\n",
    "shap.summary_plot(shap_values[3], samples, show=False, plot_size=None)\n",
    "\n",
    "plt.tight_layout()\n",
    "f"
   ]
  },
  {
   "cell_type": "markdown",
   "metadata": {},
   "source": [
    "(The shap values are only measured on a smaller sample since it takes a lot of time to compute as we're only on the first deadline. Ultimately, we will try to run it on all the data)"
   ]
  },
  {
   "cell_type": "markdown",
   "metadata": {},
   "source": [
    "Our variety of measurements all point towards the same set of attributes having the biggest impact on likelihood of symptoms. I.e. symptom 1 primarily, but also symptom two to some extent. We conclude that gen_4, gen_2 and gen_112 are worth investigating further as they are seemingly the 3 most important features. There might be more, but these are the ones most prominent."
   ]
  },
  {
   "cell_type": "markdown",
   "metadata": {},
   "source": [
    "#### Validation\n",
    "we measure the performance of a RF using k-fold cross validation to get an idea of our RF fitness.  \n",
    "If our shap values, to any extent really describe the true decision boundary, we should expect to get decent results. \n",
    "That way, we validate whether the shap values show us what we think they show us"
   ]
  },
  {
   "cell_type": "code",
   "execution_count": 136,
   "metadata": {},
   "outputs": [
    {
     "name": "stdout",
     "output_type": "stream",
     "text": [
      "Mean accuracy: 0.6898, standard deviation: 0.005758472019555186\n"
     ]
    }
   ],
   "source": [
    "rf = RandomForestClassifier(n_estimators=100)\n",
    "results = cross_validate(rf, features, S)\n",
    "mean_acc = results[\"test_score\"].mean()\n",
    "std = results[\"test_score\"].std()\n",
    "print(f\"Mean accuracy: {mean_acc}, standard deviation: {std}\")"
   ]
  },
  {
   "cell_type": "markdown",
   "metadata": {},
   "source": [
    "Keep in mind that the shap values accounts for accurately predicting approx 69% of the symptoms"
   ]
  },
  {
   "cell_type": "markdown",
   "metadata": {},
   "source": [
    "***  \n",
    "\n",
    "### 1.3 - Measuring the effect of actions"
   ]
  },
  {
   "cell_type": "markdown",
   "metadata": {},
   "source": [
    "Measuring the effect of actions. We also observe the effects of two different therapeutic\n",
    "interventions, one of which is placebo, and the other is an experimental drug. Try and measure\n",
    "the effectiveness of the placebo versus the active treatment. Are there perhaps cases where the\n",
    "active treatment is never effective, or should it always be recommended?  \n",
    "\n",
    "***  "
   ]
  },
  {
   "cell_type": "code",
   "execution_count": 137,
   "metadata": {},
   "outputs": [],
   "source": [
    "# Setup.\n",
    "\n",
    "a = np.squeeze(A.to_numpy())\n",
    "y = np.squeeze(Y.to_numpy())\n",
    "x = X.to_numpy()\n",
    "\n",
    "gender = x[:, 0]\n",
    "smoker = x[:, 1]\n",
    "genes = x[:, 2:127]\n",
    "symp = x[:, 128:]"
   ]
  },
  {
   "cell_type": "markdown",
   "metadata": {},
   "source": [
    "The following figure illustrates that action $a_1$ has led to more $y_1$ outcomes compared to action $a_0$. However, both actions $a_0$ and $a_1$ has also led to the outcome $y_0$. Moreover, we observe that the distribution of actions and outcomes is heavily skewed towards $a_1$ and $y_1$, respectively."
   ]
  },
  {
   "cell_type": "code",
   "execution_count": 138,
   "metadata": {},
   "outputs": [],
   "source": [
    "_, axis = plt.subplots(1, 1)\n",
    "\n",
    "N = 2\n",
    "ind = np.arange(N)\n",
    "width = N / 4 - 0.2\n",
    "\n",
    "rects1 = axis.bar(ind, [sum(y[a == 0]), sum(y[a == 1])], width)\n",
    "rects2 = axis.bar(ind + width, [sum(y[a == 0] == 0), sum(y[a == 1] == 0)], width)\n",
    "\n",
    "axis.set_ylabel('Count')\n",
    "axis.set_xticks(ind + width / 2)\n",
    "axis.set_xticklabels((r\"$y = 1$\", r\"$y = 0$\"))\n",
    "axis.legend((rects1[0], rects2[0]), [\"$a_0$\", \"$a_1$\"])\n",
    "plt.tight_layout()"
   ]
  },
  {
   "cell_type": "markdown",
   "metadata": {},
   "source": [
    "## Effect of treatment\n",
    "\n",
    "Assuming $a_0$ means placebo, $a_1$ is the active treament, $y_1$ is successfull treatment and $y_0$ is un-successfull treatment. To quantify the effectiveness of the placebo $a_0$ versus the active treatment $a_1$ we use the relative risk score $RR$ <a name=\"ref-3\"/>[(Akobeng, 2005)](#cite-akobeng2005understanding) . The Bayesian interpretation of this score, namely\n",
    "\n",
    "$$\n",
    "RR = \\frac{P(y_1 \\mid a_1)}{P(y_1 \\mid a_0)}\n",
    "$$\n",
    "\n",
    "gives the ratio of successfull treatments $P(y_1 \\mid a_1)$ divided by the ratio of placebo responders $P(y_1 \\mid a_0)$. If $RR > 1$, then $P(y_1 \\mid a_1) > P(y_1 \\mid a_0)$ in which case the active treatment $a_1$ lead to more successfull outcomes $y_1$ compared to placebo $a_0$."
   ]
  },
  {
   "cell_type": "code",
   "execution_count": 139,
   "metadata": {},
   "outputs": [],
   "source": [
    "def rr_score(a, y) -> float:\n",
    "    \"\"\"Compute the relative risk score given actions a and outcomes y.\"\"\"\n",
    "\n",
    "    p_y1_given_a0 = sum(y[a == 0] == 1) / sum(a == 0)\n",
    "    p_y1_given_a1 = sum(y[a == 1] == 1) / sum(a == 1)\n",
    "\n",
    "    return p_y1_given_a1 / p_y1_given_a0"
   ]
  },
  {
   "cell_type": "code",
   "execution_count": 140,
   "metadata": {},
   "outputs": [
    {
     "name": "stdout",
     "output_type": "stream",
     "text": [
      "RR score male: 53.269982993197274\n",
      "RR score female: 87.31344028520499\n",
      "RR score smoker: 103.94162538492436\n",
      "RR score non-smoker: 58.577538284594574\n"
     ]
    }
   ],
   "source": [
    "# Measures the effectiveness of the treatment vs. placebo.\n",
    "print(\"RR score male:\", rr_score(a[gender == 1], y[gender == 1]))\n",
    "print(\"RR score female:\", rr_score(a[gender == 0], y[gender == 0]))\n",
    "print(\"RR score smoker:\", rr_score(a[smoker == 1], y[smoker == 1]))\n",
    "print(\"RR score non-smoker:\", rr_score(a[smoker == 0], y[smoker == 0]))"
   ]
  },
  {
   "cell_type": "markdown",
   "metadata": {},
   "source": [
    "According to the $RR$ acore and assuming $gender = 1$ indicates male (quite common in epidemiology), treatment appears to be more effective on females and smokers than females and non-smokers. Furthermore, we can study the impact of $y_1$ on the gender sub-groups conditioned on whether or not they smoke:"
   ]
  },
  {
   "cell_type": "code",
   "execution_count": 141,
   "metadata": {},
   "outputs": [
    {
     "name": "stdout",
     "output_type": "stream",
     "text": [
      "RR smoking male: 86.69682835820896\n",
      "RR non-smoking male: 46.00143554407121\n",
      "RR smoking female: 149.89651022864018\n",
      "RR non-smoking female: 78.9722969338354\n"
     ]
    }
   ],
   "source": [
    "male_idx = gender == 1\n",
    "female_idx = gender == 0\n",
    "\n",
    "print(\"RR smoking male:\", rr_score(a[male_idx][smoker[male_idx] == 1], \n",
    "                                   y[male_idx][smoker[male_idx] == 1]))\n",
    "\n",
    "print(\"RR non-smoking male:\", rr_score(a[male_idx][smoker[male_idx] == 0], \n",
    "                                       y[male_idx][smoker[male_idx] == 0]))\n",
    "\n",
    "print(\"RR smoking female:\", rr_score(a[female_idx][smoker[female_idx] == 1], \n",
    "                                     y[female_idx][smoker[female_idx] == 1]))\n",
    "\n",
    "print(\"RR non-smoking female:\", rr_score(a[female_idx][smoker[female_idx] == 0], \n",
    "                                         y[female_idx][smoker[female_idx] == 0]))"
   ]
  },
  {
   "cell_type": "markdown",
   "metadata": {},
   "source": [
    "According to the $RR$ scores, we observe across gender that smokers are more responsive to treatment than non-smokers. This could mean that smoking impacts/correlates to the underlying condition targeted by the treatment.\n",
    "\n",
    "From the data we see that a placebo was given if neither symptom 1 nor 2 were present. However, 30 of these about 4800 cases resulted in a measurable effect of the placebo. "
   ]
  },
  {
   "cell_type": "code",
   "execution_count": 142,
   "metadata": {},
   "outputs": [
    {
     "data": {
      "text/plain": [
       "(0, 30)"
      ]
     },
     "execution_count": 142,
     "metadata": {},
     "output_type": "execute_result"
    }
   ],
   "source": [
    "s1, s2 = symp[:, 0], symp[:, 1]\n",
    "\n",
    "sum(a[np.logical_and(s1 == 0, s2 == 0)]), sum(y[np.logical_and(s1 == 0, s2 == 0)])"
   ]
  },
  {
   "cell_type": "markdown",
   "metadata": {},
   "source": [
    "For active treatment we see that symptom 1 was present in 85\\% of the cases when active treatment was successfull compared to symptom 2 being present in only about 27\\% of these cases. This means that symptom 1 was present three times more often than symptom 2 when active treatment was successfull. However, a symptom was only present in about 12\\% of the cases when active treatment failed. "
   ]
  },
  {
   "cell_type": "code",
   "execution_count": 143,
   "metadata": {},
   "outputs": [
    {
     "data": {
      "text/plain": [
       "(0.8508092892329345, 0.2674173117522871, 3.181578947368421)"
      ]
     },
     "execution_count": 143,
     "metadata": {},
     "output_type": "execute_result"
    }
   ],
   "source": [
    "p_s1_y1 = sum(s1[np.logical_and(a == 1, y == 1)]) / sum(y)\n",
    "p_s2_y1 = sum(s2[np.logical_and(a == 1, y == 1)]) / sum(y)\n",
    "rr_s_y1 = p_s1_y1 / p_s2_y1\n",
    "\n",
    "p_s1_y1, p_s2_y1, rr_s_y1"
   ]
  },
  {
   "cell_type": "markdown",
   "metadata": {},
   "source": [
    "## Recommending treatment\n",
    "\n",
    "We can study the benefits and harms of treatment by consulting a decision curve <a name=\"ref-4\"/>[(Vickers, VanCalster and Steyerberg, 2016)](#cite-vickers2016net). This curve shows the net benefit ($nb$), which is constructed from the true positive rate ($TPR$) and false positve rate ($FPR$) according to\n",
    "$$\n",
    "    nb = TPR - FPR \\left ( \\frac{p_t}{1 - p_t} \\right ).\n",
    "$$\n",
    "Here we assume that the probability of a positive outcome $p(y_1)$ is given by some prediction model. By comparing $p(y_1)$ to some threshold probability $p_t$ we define a positive outcome as $(y_1) > p_t$. The basic interpretation of a decision curve is that the strategy maximizing $nb$ at a particular $p_t$ probability yields the highest clinical value. "
   ]
  },
  {
   "cell_type": "code",
   "execution_count": 144,
   "metadata": {},
   "outputs": [],
   "source": [
    "# Gives proba of y1 given a1.\n",
    "clf.fit(x[a == 1], y[a == 1])\n",
    "pred_probas = clf.predict_proba(x[a == 1])[:, 1]\n",
    "\n",
    "y_true = y[a == 1]"
   ]
  },
  {
   "cell_type": "code",
   "execution_count": 145,
   "metadata": {},
   "outputs": [],
   "source": [
    "def net_benefit(y_true, probas, p_t):\n",
    "    # https://www.bmj.com/content/352/bmj.i6\n",
    "    \n",
    "    y_pred = probas >= p_t\n",
    "    \n",
    "    tpr = sum(y_pred == y_true) / len(y_true)\n",
    "    fpr = sum(y_pred != y_true) / len(y_true)\n",
    "    \n",
    "    return tpr - fpr * p_t / (1 - p_t)"
   ]
  },
  {
   "cell_type": "code",
   "execution_count": 146,
   "metadata": {},
   "outputs": [],
   "source": [
    "thresholds = np.linspace(0.05, 0.8, 30)\n",
    "net_benefits = [net_benefit(y_true, pred_probas, p) for p in thresholds]\n",
    "always_treated = [net_benefit(y_true, 0, p) for p in thresholds]\n",
    "\n",
    "plt.figure(figsize=(10, 6))\n",
    "plt.plot([min(thresholds), max(thresholds)], [0, 0], linestyle=\"--\", label=\"Never treated\", \n",
    "         alpha=0.7, linewidth=2.5)\n",
    "plt.plot(thresholds, always_treated, \"o-\", label=\"Always treated\", markersize=5, \n",
    "         alpha=0.5, linewidth=2.5)\n",
    "plt.plot(thresholds, net_benefits, \"o-\", label=\"Risk prediction model\", markersize=5, \n",
    "         alpha=0.5, linewidth=2.5)\n",
    "plt.axvline(x=thresholds[np.argmax(net_benefits)], linestyle=\"--\", c=\"maroon\", linewidth=2.5)\n",
    "plt.axhline(y=np.max(net_benefits), linestyle=\"--\", linewidth=2.5,\n",
    "            label=\"Probability maximizing net benefit\", c=\"maroon\", alpha=0.7)\n",
    "plt.ylabel(\"Net benefit, $nb$\")\n",
    "plt.xlabel(r\"Threshold probaility, $p_t$ ($\\%$)\")\n",
    "plt.legend()\n",
    "plt.tight_layout()"
   ]
  },
  {
   "cell_type": "markdown",
   "metadata": {},
   "source": [
    "For this case, the decision curve shows that the prediction model gives higher benefit across all thresholds comapred to always treating individuals. Due to the imbalanced outcomes where $y_1$ outnumbers $y_0$, always treating individuals does not give a higher number of false positives than true positives meaning that $nb > 0$ for $p_t < 75 \\%$. Moreover, using a threshold $p_t > 55 \\%$ to issue treatment leads to a decrease in $nb$ from fewer true positives and considering a $p_t$ between $40 - 50 \\%$ for $p(y_1)$ given $a_1$ gives the higest $nb$."
   ]
  },
  {
   "cell_type": "markdown",
   "metadata": {},
   "source": [
    "## Part 2 - Improved Policy\n",
    "\n",
    "### 2.1.\n",
    "\n",
    "\n",
    "We measure the utility of policy $\\pi_0$ as the average reward of the observed actions and outcomes \n",
    "\n",
    "$$\n",
    "    \\hat{\\mathbb{E}}^{\\pi_0}(U) = \\frac{1}{T} \\sum_{t \\leq T} U_t.\n",
    "$$\n",
    "\n",
    "To provide confidence bounds on $\\hat{\\mathbb{E}}^{\\pi_0}(U)$ we consider the standard deviation\n",
    "\n",
    "$$\n",
    "    \\hat{\\sigma}^{\\pi_0} \\left ( U \\right ) = \\left ( \\frac{1}{T} \\sum_t \\left ( U_t - \\bar{U} \\right )^2 \\right )^{1/2}\n",
    "$$\n",
    "\n",
    "Here, $\\bar{U}$ is the empirical average of the utility $U$. Given data from $\\pi_0$ we obtain $\\hat{\\mathbb{E}}^{\\pi_0}(U) = 0.119 \\pm 0.352 $. \n",
    "\n",
    "Moreover, given some policy $\\pi$, we compute the expected utility of this policy as \n",
    "\n",
    "$$\n",
    "    \\mathbb{E}^\\pi(U, P) = \\sum_t y_t P(a_0) + (y_t - 0.1) P(a_1).\n",
    "$$\n",
    "\n",
    "where $P$ is the probability of an outcome. Assuming $P$ is normally distributed, we provide confidence bounds on the average probability $\\bar{P}$ by \n",
    "\n",
    "$$\n",
    "    \\delta_P = \\bar{P} \\pm t^* \\frac{\\hat{\\sigma}^{\\pi} \\left ( P \\right )}{T}.\n",
    "$$\n",
    "\n",
    "Then, we estimate confidence bounds for the expected utility $\\mathbb{E}^\\pi(U, P) \\pm \\left [ \\mathbb{E}^\\pi(U, \\bar{P} - \\delta_P), \\mathbb{E}^\\pi(U, \\bar{P} + \\delta_P) \\right ]$."
   ]
  },
  {
   "cell_type": "markdown",
   "metadata": {},
   "source": [
    "### 2.2"
   ]
  },
  {
   "cell_type": "markdown",
   "metadata": {},
   "source": [
    "We design our policy to take actions maximizing the expected reward $\\hat{\\mathbb{E}}(U)$. Our decision rule is defined as\n",
    "\n",
    "$$\n",
    "a_t = \\begin{cases}\n",
    "0 & \\text{ if } P(a_0)y_t > (y_t - 0.1)P(a_1)\\\\ \n",
    "1 & \\text{ if } P(a_0)y_t \\leq (y_t - 0.1)P(a_1)\n",
    "\\end{cases}\n",
    "$$\n",
    "\n",
    "This rule requires a model to predict the probability $P(\\cdot)$ of each action. We start using logistic regression. In order to optimize for the reward function, we use the negated reward function as loss function when training the classifier. As an alternative we consider a policy with action probablities derived from a neural network and refer to this as the *deep policy*.\n",
    "\n",
    "* Using the policy based on logistic regression we obtain $\\mathbb{E}^\\pi(U, P) = 0.128$ with $95$ \\% confidence bounds of $[0.1274, 0.1282]$.  \n",
    "* Using the deep policy trained over 50 epochs based we obtain $\\mathbb{E}^\\pi(U, P) = 0.141758 \\pm 4 \\cdot 10^{-6}$."
   ]
  },
  {
   "cell_type": "markdown",
   "metadata": {},
   "source": [
    "### Sidenote: policy fairness  \n",
    "\n",
    "Are there any fairness concerns regarding our policies? Well, how can we define fairness in such a context?\n",
    "One way is to define them as such:  \n",
    "Meritocratic fairness: The people who are most vulnerable to a disease should get treated first.  \n",
    "Group fairness: Irrelevant attributes like gender or ethicity should not impact whether a person is worthy of treatment. Only variables that affect vulnerability factors or disease likelihood.  \n",
    "\n",
    "In our dataset we deal with the outcomes 0 and 1 and know nothing further about how an individual is coping with the condition. For the sake of this task, we can make a simplifying assumtion: that people suffer equally/are equally vulnerable for the condition. This means that we only base our treatment decision on one factor: the likelihood of being cured.  \n",
    "This is the case for our improved and adaptive recommenders.  \n",
    "\n",
    "For the historical recommender however, we do not know enough about $\\pi_0$. It might be the case that the historical policy is unfair. There is a potential danger that this will affect our improved policies as well. "
   ]
  },
  {
   "cell_type": "markdown",
   "metadata": {},
   "source": [
    "## Part 3 - Adaptive experiment design"
   ]
  },
  {
   "cell_type": "markdown",
   "metadata": {},
   "source": [
    "**Note:** we implemented a new version of the TestRecommeder.py script, test_recommender.py for this assignment. The former script contained some mistakes that are corrected in the latter, which will in turn will make the two scripts output different measurements. Outputs in test_recommender.py should be the correct, intentional measurements.  "
   ]
  },
  {
   "cell_type": "markdown",
   "metadata": {},
   "source": [
    "As a baseline, we measure against a random treatment policy. We should expect this one to perform the worst.  \n",
    "\n",
    "We have modified it slighty, to output a final analysis report"
   ]
  },
  {
   "cell_type": "code",
   "execution_count": 147,
   "metadata": {},
   "outputs": [
    {
     "name": "stdout",
     "output_type": "stream",
     "text": [
      "---- Testing with only two treatments ----\n",
      "n actions: 2 n_outcomes 2\n",
      "Fitting historical data to the policy\n",
      "Fitting treatment outcomes\n",
      "Running an online test\n",
      "Total reward: 230.10000000000204\n",
      "*** Final analysis of recommender ***\n",
      "--- Testing with an additional experimental treatment and 126 gene silencing treatments ---\n",
      "n actions: 129 n_outcomes 2\n",
      "Fitting historical data to the policy\n",
      "Fitting treatment outcomes\n",
      "Running an online test\n",
      "Total reward: -82.49999999999956\n",
      "*** Final analysis of recommender ***\n"
     ]
    }
   ],
   "source": [
    "!python3 test_recommender.py random --seed 42"
   ]
  },
  {
   "cell_type": "markdown",
   "metadata": {},
   "source": [
    "### Historical Recommender  \n",
    "The historical recommender class (found in `historical_recommender.py`) uses a logistic regression classifier to approximate the original policy. To find out how well we have approximated $\\pi_0$, we measure the classifiers performance on a holdout set. In our case, we do in multple times using k-fold cross valdiation, as we can afford the \"computational expense\".  "
   ]
  },
  {
   "cell_type": "code",
   "execution_count": 148,
   "metadata": {},
   "outputs": [
    {
     "name": "stdout",
     "output_type": "stream",
     "text": [
      "---- Testing with only two treatments ----\n",
      "n actions: 2 n_outcomes 2\n",
      "Fitting historical data to the policy\n",
      "Running an online test\n",
      "Total reward: 123.80000000000065\n",
      "*** Final analysis of recommender ***\n",
      "Look more into  ['gen_34', 'gen_44', 'gen_85'] as they increase likelihood of treatment\n",
      "    as well as  ['gen_105', 'gen_98', 'gen_28'] as they decrease likelihood of treatment\n",
      "The policy had a  0.151 curing rate\n",
      "--- Testing with an additional experimental treatment and 126 gene silencing treatments ---\n",
      "n actions: 129 n_outcomes 2\n",
      "Fitting historical data to the policy\n",
      "Running an online test\n",
      "Total reward: 123.80000000000065\n",
      "*** Final analysis of recommender ***\n",
      "Look more into  ['gen_34', 'gen_44', 'gen_85'] as they increase likelihood of treatment\n",
      "    as well as  ['gen_105', 'gen_98', 'gen_28'] as they decrease likelihood of treatment\n",
      "The policy had a  0.151 curing rate\n"
     ]
    }
   ],
   "source": [
    "!python3 test_recommender.py historical --seed 42"
   ]
  },
  {
   "cell_type": "code",
   "execution_count": 149,
   "metadata": {},
   "outputs": [
    {
     "name": "stdout",
     "output_type": "stream",
     "text": [
      "Mean accuracy: 0.7646000000000001 Standard deviation 0.0031208973068654576\n"
     ]
    }
   ],
   "source": [
    "clf = LogisticRegression(random_state=0, max_iter=5000)\n",
    "results = cross_validate(clf, features, A.to_numpy().ravel())\n",
    "ts = results[\"test_score\"]\n",
    "print(\"Mean accuracy:\", ts.mean(), \"Standard deviation\", ts.std())"
   ]
  },
  {
   "cell_type": "markdown",
   "metadata": {},
   "source": [
    "### Improved Recommender  \n",
    "\n",
    "Our startegy for improving the recommender policy consists of minimizing the error.  \n",
    "\n",
    "We propose a new policy: **Min Error Policy**"
   ]
  },
  {
   "cell_type": "markdown",
   "metadata": {},
   "source": [
    "\n",
    "Let $P_{i, j} = P(x_{i} = 1 \\mid y_j)$. We define the policy for selecting an action $a \\in \\left \\{ 0, 1 \\right \\}$ based on the following decision rule  \n",
    "$$\n",
    "a = \\arg \\max_j P(y_j \\mid x).\n",
    "$$\n",
    "This rule selects the action maximizing the probability of outcome $y_j \\in \\left \\{ 0, 1 \\right \\}$ conditioned on the data $x$. Here $x \\in \\left \\{ 0, 1 \\right \\}^d$ is a binary vector of $d$ features. Since $x_i \\in x$ is binary we assume $P(x_i \\mid y_j) = P_{i,j}^{x_i} (1 - P_{i,j})^{1 - x_i}$. Moreover, assuming $\\forall i=1, \\dots, d: x_i$ are independent we have that\n",
    "$$\n",
    "    P(x \\mid y_j) = \\prod_{i=1}^d P(x_i \\mid y_j)\n",
    "$$\n",
    "\n",
    "To derive a mechanism that executes our decision rule, we consider discriminative functions\n",
    "$$\n",
    "g_j(x) = \\ln P(x \\mid y_j)P(y_j) = \\sum_{i=1}^d \\ln \\left \\{ p_{i,j}^{x_i} (1 - p_{i,j})^{1 - x_i}\\right \\} + \\ln P(y_j) = \\sum_{i=1}^d  x_i \\ln \\frac{p_{i,j}}{1 - p_{i,j}} + \\sum_{i=1}^d \\ln (1 - p_{i,j}) + \\ln P(y_j) \n",
    "$$\n",
    "and our decision rule follows\n",
    "$$\n",
    "a = \\begin{cases}\n",
    "0 & \\text{ if } g_0(x) \\geq g_1(x) \\\\ \n",
    "1 & \\text{ if } g_0(x) < g_1(x)\n",
    "\\end{cases}\n",
    "$$\n",
    "Training the classifier entails learning the prior probabilities $P(y_j)$ and the likelihoods $P(x \\mid y_j)$. We recursively update these probability estimates with new data $({x}', {y}')$ according to a Markov process using our previous assumptions on the distribution and independence of $x$."
   ]
  },
  {
   "cell_type": "code",
   "execution_count": 150,
   "metadata": {
    "scrolled": true
   },
   "outputs": [
    {
     "name": "stdout",
     "output_type": "stream",
     "text": [
      "---- Testing with only two treatments ----\n",
      "n actions: 2 n_outcomes 2\n",
      "Fitting historical data to the policy\n",
      "Running an online test\n",
      "Total reward: 260.0000000000012\n",
      "*** Final analysis of recommender ***\n",
      "The policy had a  0.296 curing rate\n",
      "--- Testing with an additional experimental treatment and 126 gene silencing treatments ---\n",
      "n actions: 129 n_outcomes 2\n",
      "Fitting historical data to the policy\n",
      "Running an online test\n",
      "Total reward: 260.0000000000012\n",
      "*** Final analysis of recommender ***\n",
      "The policy had a  0.296 curing rate\n"
     ]
    }
   ],
   "source": [
    "!python3 test_recommender.py improved -s 42"
   ]
  },
  {
   "cell_type": "markdown",
   "metadata": {},
   "source": [
    "### Adaptive Recommender    \n"
   ]
  },
  {
   "cell_type": "markdown",
   "metadata": {},
   "source": [
    " assume a linear dependency between the expected reward of an action and its context and model the representation space using a set of linear predictors\n",
    "\n",
    "\n",
    "The task we are trying to solve is a special case. We first observe a set of historical data, and then try out our recommenders on the patients. The recommender receives data about a patient, selcts a treatment, and receives information about the outcome. Looking at this from a reinforcement learning perspective, we have a set of actions, a vector of observations, and a reward function. But we have no states. Because of that, we cannot model this problem as a markov decision process. This is rather a \"contextual multi armed bandit\" problem. Contextual, because for each patient, we receive a \"context vector\". An approximated solution to this problem is LinUCB <a name=\"ref-5\"/>[(Li, Chu, Langford and Schapire, 2010)](#cite-li2010contextual).   \n",
    "\n",
    "<!-- ![](linucb.png)   -->\n",
    "<img src=\"linUCB.png\" alt=\"Pseudocode for Linear Upper Confidence Bound\" style=\"width: 600px;\"/>\n",
    "\n"
   ]
  },
  {
   "cell_type": "markdown",
   "metadata": {},
   "source": [
    "We use an implementation of this algorithm from the contextualbandits library which will be embedded in the adaptive recommender.  "
   ]
  },
  {
   "cell_type": "code",
   "execution_count": 165,
   "metadata": {},
   "outputs": [
    {
     "name": "stdout",
     "output_type": "stream",
     "text": [
      "---- Testing with only two treatments ----\n",
      "n actions: 2 n_outcomes 2\n",
      "Fitting historical data to the policy\n",
      "Running an online test\n",
      "Testing for  5000 steps\n",
      "  0%|▏                                       | 18/5000 [00:00<00:28, 177.21it/s]STARTING TO EXPLOIT\n",
      "100%|██████████████████████████████████████| 5000/5000 [00:25<00:00, 199.53it/s]\n",
      "Total reward: 2290.900000000187\n",
      "*** Final analysis of recommender ***\n",
      "The adaptive policy had a  0.547 curing rate\n",
      "Recommending fixed policy: action  1.0\n",
      "--- Testing with an additional experimental treatment and 126 gene silencing treatments ---\n",
      "n actions: 129 n_outcomes 2\n",
      "Fitting historical data to the policy\n",
      "Running an online test\n",
      "Testing for  5000 steps\n",
      " 26%|██████████                             | 1289/5000 [01:27<04:30, 13.73it/s]STARTING TO EXPLOIT\n",
      "100%|███████████████████████████████████████| 5000/5000 [03:40<00:00, 22.65it/s]\n",
      "Total reward: 2309.000000000156\n",
      "*** Final analysis of recommender ***\n",
      "The adaptive policy had a  0.5618 curing rate\n",
      "Recommending fixed policy: action  2.0\n"
     ]
    }
   ],
   "source": [
    "!python3 test_recommender.py adaptive 5000"
   ]
  },
  {
   "cell_type": "markdown",
   "metadata": {},
   "source": [
    "### Performance comparison"
   ]
  },
  {
   "cell_type": "code",
   "execution_count": 163,
   "metadata": {},
   "outputs": [
    {
     "name": "stdout",
     "output_type": "stream",
     "text": [
      "Fitting treatment outcomes\n",
      "Fitting treatment outcomes\n",
      "The policy had a  0.2934 curing rate\n",
      "The policy had a  0.2934 curing rate\n",
      "STARTING TO EXPLOIT\n",
      "The adaptive policy had a  0.5354 curing rate\n",
      "Recommending fixed policy: action  1.0\n",
      "STARTING TO EXPLOIT\n",
      "The adaptive policy had a  0.561 curing rate\n",
      "Recommending fixed policy: action  2.0\n",
      "Look more into  ['gen_34', 'gen_44', 'gen_85'] as they increase likelihood of treatment\n",
      "    as well as  ['gen_105', 'gen_98', 'gen_28'] as they decrease likelihood of treatment\n",
      "The policy had a  0.158 curing rate\n",
      "Look more into  ['gen_34', 'gen_44', 'gen_85'] as they increase likelihood of treatment\n",
      "    as well as  ['gen_105', 'gen_98', 'gen_28'] as they decrease likelihood of treatment\n",
      "The policy had a  0.158 curing rate\n",
      "Recommending fixed policy: action  0.0\n",
      "The policy had a  0.011 curing rate\n",
      "Recommending fixed policy: action  0.0\n",
      "The policy had a  0.011 curing rate\n"
     ]
    }
   ],
   "source": [
    "data = [i.to_numpy() for i in (X, A, Y)]\n",
    "results = {}\n",
    "for title, factory in recommenders.policies.items():\n",
    "    results[title] = test_recommender.benchmark(factory, 5000, 42, *data, quiet=True)"
   ]
  },
  {
   "cell_type": "code",
   "execution_count": 164,
   "metadata": {},
   "outputs": [
    {
     "data": {
      "text/plain": [
       "<AxesSubplot:ylabel='Cumulative reward'>"
      ]
     },
     "execution_count": 164,
     "metadata": {},
     "output_type": "execute_result"
    },
    {
     "data": {
      "image/png": "[encoded data removed]",
      "text/plain": [
       "<Figure size 720x504 with 1 Axes>"
      ]
     },
     "metadata": {
      "needs_background": "light"
     },
     "output_type": "display_data"
    }
   ],
   "source": [
    "%matplotlib inline\n",
    "df = pd.DataFrame(results, [\"Single treatment\", \"Experimental treatments\"])\n",
    "# df = pd.DataFrame(results)\n",
    "df.plot.bar(figsize=(10, 7), rot=0, ylabel=\"Cumulative reward\")"
   ]
  },
  {
   "cell_type": "markdown",
   "metadata": {},
   "source": [
    "# References\n",
    "\n",
    "<a name=\"cite-landgraf2020dimensionality\"/><sup>[^](#ref-1) </sup>Landgraf, Andrew J and Lee, Yoonkyung. 2020. _Dimensionality reduction for binary data through the projection of natural parameters_.\n",
    "\n",
    "<a name=\"cite-lundberg2020local\"/><sup>[^](#ref-2) </sup>Lundberg, Scott M and Erion, Gabriel and Chen, Hugh and DeGrave, Alex and Prutkin, Jordan M and Nair, Bala and Katz, Ronit and Himmelfarb, Jonathan and Bansal, Nisha and Lee, Su-In. 2020. _From local explanations to global understanding with explainable AI for trees_.\n",
    "\n",
    "<a name=\"cite-akobeng2005understanding\"/><sup>[^](#ref-3) </sup>Akobeng, AK. 2005. _Understanding measures of treatment effect in clinical trials_.\n",
    "\n",
    "<a name=\"cite-vickers2016net\"/><sup>[^](#ref-4) </sup>Vickers, Andrew J and Van Calster, Ben and Steyerberg, Ewout W. 2016. _Net benefit approaches to the evaluation of prediction models, molecular markers, and diagnostic tests_.\n",
    "\n",
    "<a name=\"cite-li2010contextual\"/><sup>[^](#ref-5) </sup>Li, Lihong and Chu, Wei and Langford, John and Schapire, Robert E. 2010. _A contextual-bandit approach to personalized news article recommendation_.\n",
    "\n"
   ]
  },
  {
   "cell_type": "markdown",
   "metadata": {},
   "source": [
    "<!--bibtex\n",
    "@article{landgraf2020dimensionality,\n",
    "  title={Dimensionality reduction for binary data through the projection of natural parameters},\n",
    "  author={Landgraf, Andrew J and Lee, Yoonkyung},\n",
    "  journal={Journal of Multivariate Analysis},\n",
    "  volume={180},\n",
    "  pages={104668},\n",
    "  year={2020},\n",
    "  publisher={Elsevier}\n",
    "}\n",
    "\n",
    "@article{lundberg2020local,\n",
    "  title={From local explanations to global understanding with explainable AI for trees},\n",
    "  author={Lundberg, Scott M and Erion, Gabriel and Chen, Hugh and DeGrave, Alex and Prutkin, Jordan M and Nair, Bala and Katz, Ronit and Himmelfarb, Jonathan and Bansal, Nisha and Lee, Su-In},\n",
    "  journal={Nature machine intelligence},\n",
    "  volume={2},\n",
    "  number={1},\n",
    "  pages={2522--5839},\n",
    "  year={2020}\n",
    "}\n",
    "\n",
    "@article{akobeng2005understanding,\n",
    "  title={Understanding measures of treatment effect in clinical trials},\n",
    "  author={Akobeng, AK},\n",
    "  journal={Archives of disease in childhood},\n",
    "  volume={90},\n",
    "  number={1},\n",
    "  pages={54--56},\n",
    "  year={2005},\n",
    "  publisher={BMJ Publishing Group Ltd}\n",
    "}\n",
    "\n",
    "@article{vickers2016net,\n",
    "  title={Net benefit approaches to the evaluation of prediction models, molecular markers, and diagnostic tests},\n",
    "  author={Vickers, Andrew J and Van Calster, Ben and Steyerberg, Ewout W},\n",
    "  journal={bmj},\n",
    "  volume={352},\n",
    "  pages={i6},\n",
    "  year={2016},\n",
    "  publisher={British Medical Journal Publishing Group}\n",
    "}\n",
    "\n",
    "@inproceedings{li2010contextual,\n",
    "  title={A contextual-bandit approach to personalized news article recommendation},\n",
    "  author={Li, Lihong and Chu, Wei and Langford, John and Schapire, Robert E},\n",
    "  booktitle={Proceedings of the 19th international conference on World wide web},\n",
    "  pages={661--670},\n",
    "  year={2010}\n",
    "}\n",
    "--> "
   ]
  }
 ],
 "metadata": {
  "cite2c": {
   "citations": {
    "8524623/NTEXD835": {
     "id": "8524623/NTEXD835",
     "title": "landgraf_lee_logisticPCA.pdf",
     "type": "article"
    }
   }
  },
  "kernelspec": {
   "display_name": "Python 3",
   "language": "python",
   "name": "python3"
  },
  "language_info": {
   "codemirror_mode": {
    "name": "ipython",
    "version": 3
   },
   "file_extension": ".py",
   "mimetype": "text/x-python",
   "name": "python",
   "nbconvert_exporter": "python",
   "pygments_lexer": "ipython3",
   "version": "3.8.5"
  }
 },
 "nbformat": 4,
 "nbformat_minor": 4
}
