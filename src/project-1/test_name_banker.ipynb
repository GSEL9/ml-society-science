{
 "cells": [
  {
   "cell_type": "code",
   "execution_count": 1,
   "metadata": {},
   "outputs": [],
   "source": [
    "from name_banker import NameBanker\n",
    "import pandas as pd\n",
    "import unittest\n",
    "from unittest.mock import MagicMock"
   ]
  },
  {
   "cell_type": "code",
   "execution_count": 2,
   "metadata": {},
   "outputs": [],
   "source": [
    "class TestNameBanker(unittest.TestCase):\n",
    "    \"\"\"\n",
    "    Testcase for namebanker containing uninttests for all its methods\n",
    "    \"\"\"\n",
    "    r = 0.05\n",
    "    never_returns, always_returns = NameBanker(), NameBanker()\n",
    "    for i, a in (0, never_returns), (1, always_returns): \n",
    "            a.set_interest_rate(r)\n",
    "            a.predict_proba = MagicMock(return_value=i)\n",
    "            \n",
    "    \n",
    "    def test_set_interest_rate(self):\n",
    "        banker = NameBanker()\n",
    "        banker.set_interest_rate(self.r)\n",
    "        assert banker.rate == self.r\n",
    "        \n",
    "    \n",
    "    def test_predict_proba(self):\n",
    "        pass\n",
    "    \n",
    "    \n",
    "    def test_fit(self):\n",
    "        pass\n",
    "        \n",
    "        \n",
    "    def test_expected_utility(self):\n",
    "        x = pd.Series({\"duration\": 10, \"amount\": 100})\n",
    "        assert self.never_returns.expected_utility(x, 1) < 0, \\\n",
    "            \"Utility must be negative if person does not return loan\"\n",
    "        assert self.always_returns.expected_utility(x, 1) > 0, \\\n",
    "            \"Utility must be positive if person does not return loan\"\n",
    "    \n",
    "    \n",
    "    def test_get_best_action(self):\n",
    "        for d in range(1, 1000, 10):\n",
    "            for amt in range(1, 50000, 1500):\n",
    "                x = pd.Series({\"duration\": d, \"amount\": amt})    \n",
    "                assert not self.never_returns.get_best_action(x), \\\n",
    "                    \"When probability of return is 0, best action should always be 0\"\n",
    "                assert self.always_returns.get_best_action(x), \\\n",
    "                    \"When probability of return is 1, best action should always be 1\""
   ]
  },
  {
   "cell_type": "code",
   "execution_count": 3,
   "metadata": {},
   "outputs": [
    {
     "name": "stderr",
     "output_type": "stream",
     "text": [
      "...\n",
      "----------------------------------------------------------------------\n",
      "Ran 3 tests in 2.714s\n",
      "\n",
      "OK\n"
     ]
    },
    {
     "data": {
      "text/plain": [
       "<unittest.main.TestProgram at 0x7fa3b86a2f10>"
      ]
     },
     "execution_count": 3,
     "metadata": {},
     "output_type": "execute_result"
    }
   ],
   "source": [
    "# We'll need these arguments when running the tests in jupyter notebook\n",
    "unittest.main(argv=[\"first-arg-is-ignored\"], exit=False)"
   ]
  },
  {
   "cell_type": "markdown",
   "metadata": {},
   "source": [
    "Our implementation of NameBanker uses a RandomForestClassifier. It is slow, yet effective.  \n",
    "A different classifier might be better if training time is critical"
   ]
  },
  {
   "cell_type": "code",
   "execution_count": 5,
   "metadata": {},
   "outputs": [
    {
     "name": "stdout",
     "output_type": "stream",
     "text": [
      "r=0.017\n",
      "n_tests=10\n",
      "100%|███████████████████████████████████████████| 10/10 [00:00<00:00, 10.68it/s]\n",
      "Testing on class: RandomBanker\n",
      "\tAverage utility: -182335.604459863\n",
      "\tAverage return on investment: -0.3870209255574014\n",
      "100%|███████████████████████████████████████████| 10/10 [00:25<00:00,  2.66s/it]\n",
      "Testing on class: NameBanker\n",
      "\tAverage utility: 2225356.6929844273\n",
      "\tAverage return on investment: 36.15955010183\n"
     ]
    }
   ],
   "source": [
    "# Let's inspect TestLending\n",
    "!python3 TestLending.py ../../data/credit/D_valid.csv"
   ]
  }
 ],
 "metadata": {
  "kernelspec": {
   "display_name": "Python 3",
   "language": "python",
   "name": "python3"
  },
  "language_info": {
   "codemirror_mode": {
    "name": "ipython",
    "version": 3
   },
   "file_extension": ".py",
   "mimetype": "text/x-python",
   "name": "python",
   "nbconvert_exporter": "python",
   "pygments_lexer": "ipython3",
   "version": "3.7.5"
  }
 },
 "nbformat": 4,
 "nbformat_minor": 2
}
