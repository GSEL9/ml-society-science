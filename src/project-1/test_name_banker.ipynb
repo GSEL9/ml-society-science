{
 "cells": [
  {
   "cell_type": "markdown",
   "metadata": {},
   "source": [
    "# IN-STK5000/9000 - Adaptive methods for data-based decision making\n",
    "## Credit Project\n",
    "#### Syed Moeen Ali Naqvi - Geir Severin Rakh Elvatun Langberg - Markus Sverdvik Heiervang  \n",
    "***\n",
    "\n",
    "### Part 1: Banker agent\n",
    "In this notebook, we display and comment on the development of our banker model, and measure it against the random banker"
   ]
  },
  {
   "cell_type": "markdown",
   "metadata": {},
   "source": [
    "### Task A - Implementing the fit function\n",
    "\n",
    "(todo)"
   ]
  },
  {
   "cell_type": "markdown",
   "metadata": {},
   "source": [
    "### Task B - Implementing the predict\n",
    "\n",
    "(todo)"
   ]
  },
  {
   "cell_type": "markdown",
   "metadata": {},
   "source": [
    "### Task C - Get best action\n",
    "\n",
    "Our action space $\\mathcal{A}$ is binary: $\\mathcal{A} = \\{0, 1\\} = \\{ \\text{refuse_loan}, \\text{grant_loan} \\}$\n",
    "\n",
    "\n",
    "Assuming that we are maximising utility, a general function would be\n",
    "\n",
    "$$\n",
    "\\text{best_action}(x) = \\underset{a \\in \\mathcal{A}}{\\text{argmax}} \\  \\mathbf{E} [\\mathit{U}(x, a)]\n",
    "$$\n",
    "\n",
    "but since our action space is binary, it can be expressed as\n",
    "\n",
    "$$  \n",
    "\\text{best_action}(x) = \\begin{cases}\n",
    "    1,& \\text{if } \\mathbf{E}[\\mathit{U}(x, 1)] > 0\\\\\n",
    "    0,              & \\text{otherwise}\n",
    "\\end{cases}\n",
    "$$\n",
    "\n",
    "\n",
    "\n",
    "Where $\\mathbf{E}[\\mathit{U}(x, a)]$ is our expected utility function for a given feature vector and an action.\n",
    "\n",
    "We can translate this into python code as such:\n",
    "\n",
    "```Python\n",
    "def get_best_action(self, x: pd.Series) -> int:\n",
    "        return int(self.expected_utility(x, 1) > 0)\n",
    "```"
   ]
  },
  {
   "cell_type": "markdown",
   "metadata": {},
   "source": [
    "### Task D - Documenting the banker  \n",
    "\n",
    "For this part, we'll be interacting with the NameBanker in the cells below. \n",
    "Before measuring the performance, we conduct a series of unit tests to assert that each method works for a few cases"
   ]
  },
  {
   "cell_type": "code",
   "execution_count": 1,
   "metadata": {},
   "outputs": [],
   "source": [
    "from name_banker import NameBanker\n",
    "import pandas as pd\n",
    "import unittest\n",
    "from unittest.mock import MagicMock\n",
    "from sklearn.utils.validation import check_is_fitted\n",
    "import numpy as np\n",
    "\n",
    "# seed for reproducibility\n",
    "np.random.seed(42)"
   ]
  },
  {
   "cell_type": "code",
   "execution_count": 2,
   "metadata": {},
   "outputs": [],
   "source": [
    "class TestNameBanker(unittest.TestCase):\n",
    "    \"\"\"\n",
    "    Testcase for namebanker containing uninttests for all its methods\n",
    "    \n",
    "    fields:\n",
    "        r: default sample interest rate\n",
    "        never_returns: instance of NameBanker that always assumes loan will not be returned\n",
    "        always_returns: instance of NameBanker that always assumes loan will be returned\n",
    "        \n",
    "    \"\"\"\n",
    "    r = 0.05\n",
    "    \n",
    "    # Agent setup\n",
    "    never_returns, always_returns = NameBanker(), NameBanker()\n",
    "    for i, a in (0, never_returns), (1, always_returns): \n",
    "            a.set_interest_rate(r)\n",
    "            a.predict_proba = MagicMock(return_value=i)\n",
    "            \n",
    "    \n",
    "    def test_set_interest_rate(self):\n",
    "        banker = NameBanker()\n",
    "        assert not hasattr(banker, \"rate\")\n",
    "        banker.set_interest_rate(self.r)\n",
    "        assert hasattr(banker, \"rate\")\n",
    "        assert banker.rate == self.r\n",
    "        \n",
    "    \n",
    "    def test_predict_proba(self):\n",
    "        banker = NameBanker()\n",
    "        banker.fit([[1, 0], \n",
    "                    [0, 1]], [1, 2])\n",
    "        p1 = banker.predict_proba(pd.Series([1, 0]))\n",
    "        assert p1 <= 0.5\n",
    "        p2 = banker.predict_proba(pd.Series([0, 1]))\n",
    "        assert p2 >= 0.5\n",
    "    \n",
    "    def test_fit(self):\n",
    "        decision_maker = NameBanker()\n",
    "        decision_maker.fit([[0, 0], [0, 0]], [0, 0])\n",
    "        assert \"classifier\" in decision_maker.__dict__, \\\n",
    "            \"NameBanker should have attribute 'classifier' after calling fit\"\n",
    "        \n",
    "        check_is_fitted(decision_maker.classifier, \"estimators_\")\n",
    "        \n",
    "    def test_expected_utility(self):\n",
    "        x = pd.Series({\"duration\": 10, \"amount\": 100})\n",
    "        assert self.never_returns.expected_utility(x, 1) < 0, \\\n",
    "            \"Utility must be negative if person does not return loan\"\n",
    "        assert self.always_returns.expected_utility(x, 1) > 0, \\\n",
    "            \"Utility must be positive if person does not return loan\"\n",
    "        \n",
    "        proba = 0.7\n",
    "        decision_maker = NameBanker()\n",
    "        decision_maker.set_interest_rate(self.r)\n",
    "        decision_maker.predict_proba = MagicMock(return_value=proba)\n",
    "        \n",
    "        estimate = decision_maker.expected_utility(x, 1)\n",
    "        ground_truth = 14.022623874420933\n",
    "        assert np.isclose(estimate, ground_truth), \\\n",
    "            f\"Estimate should be close to {ground_truth}, was {estimate}\"\n",
    "    \n",
    "    \n",
    "    def test_get_best_action(self):\n",
    "        for d in range(1, 1000, 10):\n",
    "            for amt in range(1, 50000, 1500):\n",
    "                x = pd.Series({\"duration\": d, \"amount\": amt})    \n",
    "                assert not self.never_returns.get_best_action(x), \\\n",
    "                    \"When probability of return is 0, best action should always be 0\"\n",
    "                assert self.always_returns.get_best_action(x), \\\n",
    "                    \"When probability of return is 1, best action should always be 1\""
   ]
  },
  {
   "cell_type": "code",
   "execution_count": 3,
   "metadata": {},
   "outputs": [
    {
     "name": "stderr",
     "output_type": "stream",
     "text": [
      ".....\n",
      "----------------------------------------------------------------------\n",
      "Ran 5 tests in 2.115s\n",
      "\n",
      "OK\n"
     ]
    },
    {
     "data": {
      "text/plain": [
       "<unittest.main.TestProgram at 0x7f08c7edad50>"
      ]
     },
     "execution_count": 3,
     "metadata": {},
     "output_type": "execute_result"
    }
   ],
   "source": [
    "# We'll need these arguments when running the tests in jupyter notebook\n",
    "unittest.main(argv=[\"first-arg-is-ignored\"], exit=False)"
   ]
  },
  {
   "cell_type": "markdown",
   "metadata": {},
   "source": [
    "We rewrote the TestLending script into a neat command-line interface so that we can customize the programs parameters.   \n",
    "This will also display progress of the training, since the classifier might take some time.  \n",
    "\n",
    "From this, we can observe that our banker performs better than the RandomBanker"
   ]
  },
  {
   "cell_type": "code",
   "execution_count": 4,
   "metadata": {},
   "outputs": [
    {
     "name": "stdout",
     "output_type": "stream",
     "text": [
      "r=0.017, n_tests=100, seed=42\n",
      "\n",
      "Testing on class: RandomBanker ...\n",
      "100%|█████████████████████████████████████████| 100/100 [00:06<00:00, 15.42it/s]\n",
      "Results:\n",
      "\tAverage utility: 5286300.638762048\n",
      "\tAverage return on investment: 133.09537160909298\n",
      "\n",
      "Testing on class: NameBanker ...\n",
      "100%|█████████████████████████████████████████| 100/100 [03:13<00:00,  1.83s/it]\n",
      "Results:\n",
      "\tAverage utility: 9083920.983178237\n",
      "\tAverage return on investment: 221.825440959028\n"
     ]
    }
   ],
   "source": [
    "# Let's inspect TestLending\n",
    "!python3 TestLendingV2.py ../../data/credit/D_train.csv --n-tests 100 --seed 42"
   ]
  }
 ],
 "metadata": {
  "kernelspec": {
   "display_name": "Python 3",
   "language": "python",
   "name": "python3"
  },
  "language_info": {
   "codemirror_mode": {
    "name": "ipython",
    "version": 3
   },
   "file_extension": ".py",
   "mimetype": "text/x-python",
   "name": "python",
   "nbconvert_exporter": "python",
   "pygments_lexer": "ipython3",
   "version": "3.7.5"
  }
 },
 "nbformat": 4,
 "nbformat_minor": 2
}
