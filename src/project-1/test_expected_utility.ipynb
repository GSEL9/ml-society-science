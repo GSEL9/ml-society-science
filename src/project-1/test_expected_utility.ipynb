{
 "cells": [
  {
   "cell_type": "code",
   "execution_count": 1,
   "metadata": {},
   "outputs": [],
   "source": [
    "import numpy as np \n",
    "import pandas as pd \n",
    "\n",
    "from unittest.mock import MagicMock\n",
    "\n",
    "from name_banker import NameBanker"
   ]
  },
  {
   "cell_type": "code",
   "execution_count": 2,
   "metadata": {},
   "outputs": [],
   "source": [
    "# Test data.\n",
    "x = pd.Series({\"duration\": 10, \"amount\": 100})"
   ]
  },
  {
   "cell_type": "code",
   "execution_count": 3,
   "metadata": {},
   "outputs": [],
   "source": [
    "decision_maker = NameBanker()\n",
    "\n",
    "interest_rate = 0.05\n",
    "decision_maker.set_interest_rate(interest_rate)"
   ]
  },
  {
   "cell_type": "code",
   "execution_count": 4,
   "metadata": {},
   "outputs": [],
   "source": [
    "assert np.isclose(decision_maker.rate, interest_rate)"
   ]
  },
  {
   "cell_type": "markdown",
   "metadata": {},
   "source": [
    "# Testing expected utility"
   ]
  },
  {
   "cell_type": "code",
   "execution_count": 5,
   "metadata": {},
   "outputs": [],
   "source": [
    "# Test action response: Action 0 should return zero utility.\n",
    "assert np.isclose(decision_maker.expected_utility(None, 0), 0)"
   ]
  },
  {
   "cell_type": "code",
   "execution_count": 6,
   "metadata": {},
   "outputs": [],
   "source": [
    "# Test expected utility computation.\n",
    "for action in [0, 1]:\n",
    "    for proba in np.linspace(0, 1, 10):\n",
    "    \n",
    "        # Mock predict_proba().\n",
    "        decision_maker.predict_proba = MagicMock(return_value=proba)\n",
    "        assert decision_maker.predict_proba() == proba\n",
    "        \n",
    "        ground_truth = 0.0\n",
    "        if action:\n",
    "            ground_truth = x[\"amount\"] * ((1 + interest_rate) ** x[\"duration\"] - 1) * proba - (1 - proba) * x[\"amount\"]\n",
    "\n",
    "        assert np.isclose(decision_maker.expected_utility(x, action), ground_truth)"
   ]
  },
  {
   "cell_type": "code",
   "execution_count": null,
   "metadata": {},
   "outputs": [],
   "source": []
  }
 ],
 "metadata": {
  "kernelspec": {
   "display_name": "Python 3",
   "language": "python",
   "name": "python3"
  },
  "language_info": {
   "codemirror_mode": {
    "name": "ipython",
    "version": 3
   },
   "file_extension": ".py",
   "mimetype": "text/x-python",
   "name": "python",
   "nbconvert_exporter": "python",
   "pygments_lexer": "ipython3",
   "version": "3.7.5"
  }
 },
 "nbformat": 4,
 "nbformat_minor": 2
}
