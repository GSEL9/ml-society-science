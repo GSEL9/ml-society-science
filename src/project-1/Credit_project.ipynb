{
 "cells": [
  {
   "cell_type": "markdown",
   "metadata": {},
   "source": [
    "# IN-STK5000/9000 - Adaptive methods for data-based decision making\n",
    "## Credit Project\n",
    "\n",
    "The code to reproduce experiments can be found [here](https://github.com/gsel9/ml-society-science).\n",
    "\n",
    "#### Syed Moeen Ali Naqvi - Geir Severin Rakh Elvatun Langberg - Markus Sverdvik Heiervang  \n",
    "***\n",
    "\n",
    "### Part 1: Banker agent\n",
    "In this notebook, we display and comment on the development of our banker model, and measure it against the random banker, as well as documenting the implementations of the different methods used for the class"
   ]
  },
  {
   "cell_type": "markdown",
   "metadata": {},
   "source": [
    "### Task 1 - Implementing expected utility\n",
    "\n",
    "Our action space $\\mathcal{A}$ is binary: $\\mathcal{A} = \\{0, 1\\} = \\{a_1, a_2\\} = \\{ \\text{refuse_loan}, \\text{grant_loan} \\}$\n",
    "\n",
    "\n",
    "To calculate the expected utility, we consider two actions: $a_1$ granting the loan or $a_2$ not granting a loan. Moreover, if granting a loan, the outcome at the end of the lending period $n$ is that it can be either fully repaid $\\omega_1$ or not repaid $\\omega_2$. The utility of granting a loan of $m$ credits that is also repaid is $m((1 + r)^n - 1)$, whereas, if the loan is not repaid, the utility is $-m$. In case of not granting the loan, the utility is zero. Thus, given the probability of being credit-worthy, $P(\\omega_1)$, the expected utility is  \n",
    "\n",
    "\n",
    "$$\n",
    "    \\mathbb{E}(U \\mid a) = m((1 + r)^n - 1)P(\\omega_1) - m(1 - P(\\omega_1)).\n",
    "$$\n",
    "\n",
    "This calculation is implemented as follows\n",
    "\n",
    "\n",
    "```Python\n",
    "def expected_utility(self, x: pd.Series, action: int) -> float:\n",
    "\n",
    "        if action:\n",
    "            # Probability of being credit worthy.\n",
    "            pi = self.predict_proba(x)\n",
    "\n",
    "            return x[\"amount\"] * ((1 + self.rate) ** x[\"duration\"] - 1) * pi - x[\"amount\"] * (1 - pi)\n",
    "\n",
    "        return 0.0\n",
    "```"
   ]
  },
  {
   "cell_type": "markdown",
   "metadata": {},
   "source": [
    "### Task 2 - Implementing the fit function\n",
    "\n",
    "We are using Random forest classifier to fit a model for calculating the probability of credit-worthiness for a creditor. Random forests (RF) construct many individual decision trees at training. Predictions from all trees are pooled to make the final prediction; the mode of the classes for classification. As they use a collection of results to make a final decision, they are referred to as Ensemble techniques.\n",
    "\n",
    "We are using scikit-learn to implement the classifier. We have included optional hyper-parameter tuning before fitting the model.\n",
    "\n",
    "Following is the code for fit():\n",
    "\n",
    "```Python\n",
    "    def fit(self, X: pd.DataFrame, y: pd.Series) -> None:\n",
    "        if self.optimize:\n",
    "            #Finding optimal paramters\n",
    "            param_grid = [{\n",
    "                'bootstrap' : [True],\n",
    "                'max_features' : list(range(10,20,1)),\n",
    "                'max_depth' : list(range(10,100,10)),\n",
    "                'n_estimators' : list(range(25,150,25))\n",
    "            }]\n",
    "\n",
    "            grid_search = GridSearchCV(\n",
    "                estimator = RandomForestClassifier(), param_grid = param_grid, cv = 5\n",
    "            )\n",
    "            grid_search.fit(X, y)\n",
    "            self.classifier = RandomForestClassifier(\n",
    "                random_state=self.random_state, **grid_search.best_params_\n",
    "            )\n",
    "        else:\n",
    "            self.classifier = RandomForestClassifier(\n",
    "                n_estimators=100,\n",
    "                random_state=self.random_state,\n",
    "                class_weight=\"balanced\"\n",
    "            )\n",
    "            \n",
    "        self.classifier.fit(X,y)\n",
    "\n",
    "```\n",
    "\n",
    "The method predict_proba() ensures that the fit() is called beforehand and predicts the probability of the loan being returned. \n",
    "\n",
    "Following is the code for predict_proba():\n",
    "\n",
    "```Python\n",
    "    def predict_proba(self, x: pd.Series) -> float:\n",
    "        if not hasattr(self, \"classifier\"):\n",
    "            raise ValueError(\"This Group4Banker instance is not fitted yet. Call 'fit' \"\n",
    "                             \"with appropriate arguments before using this method.\")\n",
    "\n",
    "        x_reshaped = np.reshape(x.to_numpy(), (1,-1))\n",
    "\n",
    "        return self.classifier.predict_proba(x_reshaped)[0][0]\n",
    "```\n",
    "\n",
    "We are assuming that the labelling process is correct and the labels represent the ground truth. "
   ]
  },
  {
   "cell_type": "markdown",
   "metadata": {},
   "source": [
    "### Task 3 - Get best action\n",
    "\n",
    "\n",
    "Assuming that we are maximising utility, a general function would be\n",
    "\n",
    "$$\n",
    "\\text{best_action}(x) = \\underset{a \\in \\mathcal{A}}{\\text{argmax}} \\  \\mathbb{E}(U \\mid a)\n",
    "$$\n",
    "\n",
    "but since our action space is binary, it can be expressed as\n",
    "\n",
    "$$  \n",
    "\\text{best_action}(x) = \\begin{cases}\n",
    "    1,& \\text{if } \\mathbb{E}(U \\mid a=1) > 0\\\\\n",
    "    0,              & \\text{otherwise}\n",
    "\\end{cases}\n",
    "$$\n",
    "\n",
    "We can translate this into python code as such:\n",
    "\n",
    "```Python\n",
    "def get_best_action(self, x: pd.Series) -> int:\n",
    "        return int(self.expected_utility(x, 1) > 0)\n",
    "```"
   ]
  },
  {
   "cell_type": "markdown",
   "metadata": {},
   "source": [
    "### Task 4 - Documenting the banker  \n",
    "\n",
    "For this part, we'll be interacting with the Group4Banker in the cells below. \n",
    "Before measuring the performance, we conduct a series of unit tests to assert that each method works for a few cases"
   ]
  },
  {
   "cell_type": "code",
   "execution_count": 1,
   "metadata": {},
   "outputs": [],
   "source": [
    "from group4_banker import Group4Banker\n",
    "import numpy as np\n",
    "\n",
    "# seed for reproducibility\n",
    "np.random.seed(42)"
   ]
  },
  {
   "cell_type": "code",
   "execution_count": 2,
   "metadata": {},
   "outputs": [
    {
     "name": "stderr",
     "output_type": "stream",
     "text": [
      ".....\n",
      "----------------------------------------------------------------------\n",
      "Ran 5 tests in 2.023s\n",
      "\n",
      "OK\n"
     ]
    },
    {
     "data": {
      "text/plain": [
       "<unittest.main.TestProgram at 0x7f113c57cd10>"
      ]
     },
     "execution_count": 2,
     "metadata": {},
     "output_type": "execute_result"
    }
   ],
   "source": [
    "from test_group4_banker import TestGroup4Banker\n",
    "import unittest\n",
    "# We'll need these arguments when running the tests in jupyter notebook\n",
    "unittest.main(argv=[\"first-arg-is-ignored\"], exit=False)"
   ]
  },
  {
   "cell_type": "markdown",
   "metadata": {},
   "source": [
    "We rewrote the TestLending script into a neat command-line interface so that we can customize the programs parameters.   \n",
    "This will also display progress of the training, since the classifier might take some time.  \n",
    "\n",
    "From this, we can observe that our banker performs better than the RandomBanker"
   ]
  },
  {
   "cell_type": "code",
   "execution_count": 3,
   "metadata": {},
   "outputs": [
    {
     "name": "stdout",
     "output_type": "stream",
     "text": [
      "r=0.05, n_tests=100, seed=12\n",
      "\n",
      "Testing on class: RandomBanker ...\n",
      "100%|█████████████████████████████████████████| 100/100 [00:06<00:00, 16.11it/s]\n",
      "Results:\n",
      "\tAverage utility: 62194332770.39753\n",
      "\tAverage return on investment: 1662784.8621222847\n",
      "\n",
      "Testing on class: Group4Banker ...\n",
      "100%|█████████████████████████████████████████| 100/100 [02:44<00:00,  1.65s/it]\n",
      "Results:\n",
      "\tAverage utility: 154030042326.10663\n",
      "\tAverage return on investment: 3563445.2297234936\n"
     ]
    }
   ],
   "source": [
    "!python3 TestLendingV2.py ../../data/credit/D_valid.csv --n-tests 100 --seed 12 --interest-rate 0.05"
   ]
  },
  {
   "cell_type": "markdown",
   "metadata": {},
   "source": [
    "Let's see how our banker performs on the training set"
   ]
  },
  {
   "cell_type": "code",
   "execution_count": 4,
   "metadata": {},
   "outputs": [
    {
     "name": "stdout",
     "output_type": "stream",
     "text": [
      "r=0.05, n_tests=100, seed=11\n",
      "\n",
      "Testing on class: RandomBanker ...\n",
      "100%|█████████████████████████████████████████| 100/100 [00:06<00:00, 16.21it/s]\n",
      "Results:\n",
      "\tAverage utility: 286821119298.73846\n",
      "\tAverage return on investment: 4944685.923886744\n",
      "\n",
      "Testing on class: Group4Banker ...\n",
      "100%|█████████████████████████████████████████| 100/100 [02:41<00:00,  1.61s/it]\n",
      "Results:\n",
      "\tAverage utility: 490355107143.02966\n",
      "\tAverage return on investment: 11223170.155701187\n"
     ]
    }
   ],
   "source": [
    "!python3 TestLendingV2.py ../../data/credit/D_train.csv --n-tests 100 --seed 11 --interest-rate 0.05"
   ]
  },
  {
   "cell_type": "markdown",
   "metadata": {},
   "source": [
    "### Part 2: Critical evaluation of banker agent?"
   ]
  },
  {
   "cell_type": "markdown",
   "metadata": {},
   "source": [
    "1. Is it possible to ensure that your policy maximises revenue? How can you take into account\n",
    "the uncertainty due to the limited and/or biased data? What if you have to decide for credit\n",
    "for thousands of individuals and your model is wrong? How should you take that type of\n",
    "risk into account?"
   ]
  },
  {
   "cell_type": "markdown",
   "metadata": {},
   "source": [
    "(Severin)"
   ]
  },
  {
   "cell_type": "markdown",
   "metadata": {},
   "source": [
    "2. Does the existence of this database raise any privacy concerns? If the database was secret\n",
    "(and only known by the bank), but the credit decisions were public, how would that affect\n",
    "privacy? (a) Explain how you would protect the data of the people in the training set. (b)\n",
    "Explain how would protect the data of the people that apply for new loans. (c) Implement\n",
    "a private decision making mechanism for (b),3 and estimate the amount of loss in utility\n",
    "as you change the privacy guarantee."
   ]
  },
  {
   "cell_type": "markdown",
   "metadata": {},
   "source": [
    "(Moeen)"
   ]
  },
  {
   "cell_type": "markdown",
   "metadata": {},
   "source": [
    "3. Come up with more discussion worthy topics"
   ]
  },
  {
   "cell_type": "markdown",
   "metadata": {},
   "source": [
    "(Markus)"
   ]
  }
 ],
 "metadata": {
  "kernelspec": {
   "display_name": "Python 3",
   "language": "python",
   "name": "python3"
  },
  "language_info": {
   "codemirror_mode": {
    "name": "ipython",
    "version": 3
   },
   "file_extension": ".py",
   "mimetype": "text/x-python",
   "name": "python",
   "nbconvert_exporter": "python",
   "pygments_lexer": "ipython3",
   "version": "3.7.5"
  }
 },
 "nbformat": 4,
 "nbformat_minor": 2
}
